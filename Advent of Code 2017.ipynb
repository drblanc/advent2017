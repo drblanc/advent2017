{
 "cells": [
  {
   "cell_type": "markdown",
   "metadata": {},
   "source": [
    "# Python prelude\n",
    "We'll put useful imports and utility functions here."
   ]
  },
  {
   "cell_type": "code",
   "execution_count": 138,
   "metadata": {
    "collapsed": true
   },
   "outputs": [],
   "source": [
    "def input_string(day):\n",
    "    filename = \"advent{}.txt\".format(day)\n",
    "    with open(filename, 'r') as myfile:\n",
    "        return myfile.read()\n",
    "    \n",
    "import numpy as np"
   ]
  },
  {
   "cell_type": "markdown",
   "metadata": {},
   "source": [
    "# Day 1"
   ]
  },
  {
   "cell_type": "code",
   "execution_count": 66,
   "metadata": {
    "collapsed": true
   },
   "outputs": [],
   "source": [
    "def captcha(string):\n",
    "    digs = [int(c) for c in string]\n",
    "    sdigs = digs[1:] + [digs[0]]\n",
    "    return sum([a for (a,b) in zip(digs, sdigs) if a == b])\n",
    "\n",
    "def test():\n",
    "    assert captcha('1122') == 3\n",
    "    assert captcha('1111') == 4\n",
    "    assert captcha('1234') == 0\n",
    "    assert captcha('91212129') == 9\n",
    "    \n",
    "test()"
   ]
  },
  {
   "cell_type": "code",
   "execution_count": 67,
   "metadata": {},
   "outputs": [
    {
     "data": {
      "text/plain": [
       "1031"
      ]
     },
     "execution_count": 67,
     "metadata": {},
     "output_type": "execute_result"
    }
   ],
   "source": [
    "captcha('57276274387944537823652626177853384411146325384494935924454336611953119173638191671326254832624841593421667683474349154668177743437745965461678636631863541462893547616877914914662358836365421198516263335926544716331814125295712581158399321372683742773423626286669759415959391374744214595682795818615532673877868424196926497731144319736445141728123322962547288572434564178492753681842244888368542423832228211172842456231275738182764232265933625119312598161192193214898949267765417468348935134618964683127194391796165368145548814473129857697989322621368744725685183346825333247866734735894493395218781464346951777873929898961358796274889826894529599645442657423438562423853247543621565468819799931598754753467593832328147439341586125262733737128386961596394728159719292787597426898945198788211417854662948358422729471312456437778978749753927251431677533575752312447488337156956217451965643454445329758327129966657189332824969141448538681979632611199385896965946849725421978137753366252459914913637858783146735469758716752765718189175583956476935185985918536318424248425426398158278111751711911227818826766177996223718837428972784328925743869885232266127727865267881592395643836999244218345184474613129823933659422223685422732186536199153988717455568523781673393698356967355875123554797755491181791593156433735591529495984256519631187849654633243225118132152549712643273819314433877592644693826861523243946998615722951182474773173215527598949553185313259992227879964482121769617218685394776778423378182462422788277997523913176326468957342296368178321958626168785578977414537368686438348124283789748775163821457641135163495649331144436157836647912852483177542224864952271874645274572426458614384917923623627532487625396914111582754953944965462576624728896917137599778828769958626788685374749661741223741834844643725486925886933118382649581481351844943368484853956759877215252766294896496444835264357169642341291412768946589781812493421379575569593678354241223363739129813633236996588711791919421574583924743119867622229659211793468744163297478952475933163259769578345894367855534294493613767564497137369969315192443795512585')"
   ]
  },
  {
   "cell_type": "code",
   "execution_count": 68,
   "metadata": {
    "collapsed": true
   },
   "outputs": [],
   "source": [
    "def captcha2(string):\n",
    "    digs = [int(c) for c in string]\n",
    "    l = len(digs)\n",
    "    sdigs = (2*digs)[l//2:l//2+l]\n",
    "    return sum([a for (a,b) in zip(digs, sdigs) if a == b])\n",
    "\n",
    "def test():\n",
    "    assert captcha2('1212') == 6\n",
    "    assert captcha2('1221') == 0\n",
    "    assert captcha2('123425') == 4\n",
    "    assert captcha2('123123') == 12\n",
    "    assert captcha2('12131415') == 4\n",
    "    \n",
    "test()"
   ]
  },
  {
   "cell_type": "code",
   "execution_count": 69,
   "metadata": {},
   "outputs": [
    {
     "data": {
      "text/plain": [
       "1080"
      ]
     },
     "execution_count": 69,
     "metadata": {},
     "output_type": "execute_result"
    }
   ],
   "source": [
    "captcha2('57276274387944537823652626177853384411146325384494935924454336611953119173638191671326254832624841593421667683474349154668177743437745965461678636631863541462893547616877914914662358836365421198516263335926544716331814125295712581158399321372683742773423626286669759415959391374744214595682795818615532673877868424196926497731144319736445141728123322962547288572434564178492753681842244888368542423832228211172842456231275738182764232265933625119312598161192193214898949267765417468348935134618964683127194391796165368145548814473129857697989322621368744725685183346825333247866734735894493395218781464346951777873929898961358796274889826894529599645442657423438562423853247543621565468819799931598754753467593832328147439341586125262733737128386961596394728159719292787597426898945198788211417854662948358422729471312456437778978749753927251431677533575752312447488337156956217451965643454445329758327129966657189332824969141448538681979632611199385896965946849725421978137753366252459914913637858783146735469758716752765718189175583956476935185985918536318424248425426398158278111751711911227818826766177996223718837428972784328925743869885232266127727865267881592395643836999244218345184474613129823933659422223685422732186536199153988717455568523781673393698356967355875123554797755491181791593156433735591529495984256519631187849654633243225118132152549712643273819314433877592644693826861523243946998615722951182474773173215527598949553185313259992227879964482121769617218685394776778423378182462422788277997523913176326468957342296368178321958626168785578977414537368686438348124283789748775163821457641135163495649331144436157836647912852483177542224864952271874645274572426458614384917923623627532487625396914111582754953944965462576624728896917137599778828769958626788685374749661741223741834844643725486925886933118382649581481351844943368484853956759877215252766294896496444835264357169642341291412768946589781812493421379575569593678354241223363739129813633236996588711791919421574583924743119867622229659211793468744163297478952475933163259769578345894367855534294493613767564497137369969315192443795512585')"
   ]
  },
  {
   "cell_type": "markdown",
   "metadata": {
    "collapsed": true
   },
   "source": [
    "# Day 2"
   ]
  },
  {
   "cell_type": "code",
   "execution_count": 5,
   "metadata": {
    "collapsed": true
   },
   "outputs": [],
   "source": [
    "testspread = \"\"\"5 1 9 5\n",
    "7 5 3\n",
    "2 4 6 8\"\"\""
   ]
  },
  {
   "cell_type": "code",
   "execution_count": 65,
   "metadata": {},
   "outputs": [
    {
     "name": "stdout",
     "output_type": "stream",
     "text": [
      "All tests passed\n"
     ]
    }
   ],
   "source": [
    "def checksum(table):\n",
    "    lines = table.splitlines()\n",
    "    csum = 0\n",
    "    for l in lines:\n",
    "        nums = [int(x) for x in l.split()]\n",
    "        csum += max(nums) - min(nums)\n",
    "    return csum\n",
    "\n",
    "def test():\n",
    "    assert checksum(testspread) == 18\n",
    "    print(\"All tests passed\")\n",
    "    \n",
    "test()"
   ]
  },
  {
   "cell_type": "code",
   "execution_count": 7,
   "metadata": {
    "collapsed": true
   },
   "outputs": [],
   "source": [
    "spread = \"\"\"414\t382\t1515\t319\t83\t1327\t116\t391\t101\t749\t1388\t1046\t1427\t105\t1341\t1590\n",
    "960\t930\t192\t147\t932\t621\t1139\t198\t865\t820\t597\t165\t232\t417\t19\t183\n",
    "3379\t987\t190\t3844\t1245\t1503\t3151\t3349\t2844\t4033\t175\t3625\t3565\t179\t3938\t184\n",
    "116\t51\t32\t155\t102\t92\t65\t42\t48\t91\t74\t69\t52\t89\t20\t143\n",
    "221\t781\t819\t121\t821\t839\t95\t117\t626\t127\t559\t803\t779\t543\t44\t369\n",
    "199\t2556\t93\t1101\t122\t124\t2714\t625\t2432\t1839\t2700\t2636\t118\t2306\t1616\t2799\n",
    "56\t804\t52\t881\t1409\t47\t246\t1368\t1371\t583\t49\t1352\t976\t400\t1276\t1240\n",
    "1189\t73\t148\t1089\t93\t76\t3205\t3440\t3627\t92\t853\t95\t3314\t3551\t2929\t3626\n",
    "702\t169\t492\t167\t712\t488\t357\t414\t187\t278\t87\t150\t19\t818\t178\t686\n",
    "140\t2220\t1961\t1014\t2204\t2173\t1513\t2225\t443\t123\t148\t580\t833\t1473\t137\t245\n",
    "662\t213\t1234\t199\t1353\t1358\t1408\t235\t917\t1395\t1347\t194\t565\t179\t768\t650\n",
    "119\t137\t1908\t1324\t1085\t661\t1557\t1661\t1828\t1865\t432\t110\t658\t821\t1740\t145\n",
    "1594\t222\t4140\t963\t209\t2782\t180\t2591\t4390\t244\t4328\t3748\t4535\t192\t157\t3817\n",
    "334\t275\t395\t128\t347\t118\t353\t281\t430\t156\t312\t386\t160\t194\t63\t141\n",
    "146\t1116\t153\t815\t2212\t2070\t599\t3018\t2640\t47\t125\t2292\t165\t2348\t2694\t184\n",
    "1704\t2194\t1753\t146\t2063\t1668\t1280\t615\t163\t190\t2269\t1856\t150\t158\t2250\t2459\"\"\""
   ]
  },
  {
   "cell_type": "code",
   "execution_count": 20,
   "metadata": {},
   "outputs": [
    {
     "data": {
      "text/plain": [
       "30994"
      ]
     },
     "execution_count": 20,
     "metadata": {},
     "output_type": "execute_result"
    }
   ],
   "source": [
    "checksum(spread)"
   ]
  },
  {
   "cell_type": "code",
   "execution_count": 63,
   "metadata": {
    "collapsed": true
   },
   "outputs": [],
   "source": [
    "import itertools\n",
    "\n",
    "def evenmults(nums):\n",
    "    return sum([b//a for (a,b) in itertools.combinations(sorted(nums),2) if b % a == 0])\n",
    "\n",
    "def checksum2(table):\n",
    "    lines = table.splitlines()\n",
    "    csum = 0\n",
    "    for l in lines:\n",
    "        nums = [int(x) for x in l.split()]\n",
    "        csum += evenmults(nums)\n",
    "    return csum"
   ]
  },
  {
   "cell_type": "code",
   "execution_count": 64,
   "metadata": {},
   "outputs": [
    {
     "data": {
      "text/plain": [
       "233"
      ]
     },
     "execution_count": 64,
     "metadata": {},
     "output_type": "execute_result"
    }
   ],
   "source": [
    "checksum2(spread)"
   ]
  },
  {
   "cell_type": "markdown",
   "metadata": {
    "collapsed": true
   },
   "source": [
    "# Day 3"
   ]
  },
  {
   "cell_type": "code",
   "execution_count": 190,
   "metadata": {
    "collapsed": true
   },
   "outputs": [],
   "source": [
    "def howfar(num):\n",
    "    i = 1\n",
    "    while i**2 < num:\n",
    "        i += 2\n",
    "    # how far from the center?\n",
    "    layer = (i-1) // 2\n",
    "    # which square in that layer?\n",
    "    around = num - (2*layer-1)**2\n",
    "    # how far along that side?\n",
    "    side = around % (2*layer) if layer > 0 else 0\n",
    "    # how far from the middle of that side?\n",
    "    along = abs(side - layer)\n",
    "    return layer+along"
   ]
  },
  {
   "cell_type": "code",
   "execution_count": 202,
   "metadata": {},
   "outputs": [
    {
     "data": {
      "text/plain": [
       "326"
      ]
     },
     "execution_count": 202,
     "metadata": {},
     "output_type": "execute_result"
    }
   ],
   "source": [
    "howfar(361527)"
   ]
  },
  {
   "cell_type": "markdown",
   "metadata": {},
   "source": [
    "Cheesiness: https://oeis.org/A141481\n",
    "Maybe convert to Python? (*done*)\n",
    "\n",
    "Just reading the table reveals that 363010 is the smallest such number > 361527"
   ]
  },
  {
   "cell_type": "code",
   "execution_count": 52,
   "metadata": {},
   "outputs": [
    {
     "data": {
      "text/plain": [
       "363010"
      ]
     },
     "execution_count": 52,
     "metadata": {},
     "output_type": "execute_result"
    }
   ],
   "source": [
    "def spiral():\n",
    "    # The idea of using a dict as an unsized matrix was new to me.\n",
    "    a = {(0,0): 1}\n",
    "    i, j = 0, 0\n",
    "\n",
    "    def spsum(i,j):\n",
    "        return sum(a.get((i+di,j+dj),0) for di in range(-1,2) for dj in range(-1,2))\n",
    "\n",
    "    s = 1\n",
    "    while True:\n",
    "        for _ in range(s):\n",
    "            i += 1\n",
    "            a[(i,j)] = spsum(i,j)\n",
    "            yield ((i,j),a[(i,j)])\n",
    "        for _ in range(s):\n",
    "            j -= 1\n",
    "            a[(i,j)] = spsum(i,j)\n",
    "            yield ((i,j),a[(i,j)])\n",
    "        for _ in range(s+1):\n",
    "            i -= 1\n",
    "            a[(i,j)] = spsum(i,j)\n",
    "            yield ((i,j),a[(i,j)]) \n",
    "        for _ in range(s+1):\n",
    "            j += 1\n",
    "            a[(i,j)] = spsum(i,j)\n",
    "            yield ((i,j),a[(i,j)])\n",
    "        s += 2\n",
    "\n",
    "def spiral2(n):\n",
    "    sp = spiral()\n",
    "    for x,y in sp:\n",
    "        if y > n:\n",
    "            return y\n",
    "\n",
    "spiral2(361527)"
   ]
  },
  {
   "cell_type": "markdown",
   "metadata": {
    "collapsed": true
   },
   "source": [
    "# Day 4"
   ]
  },
  {
   "cell_type": "code",
   "execution_count": 16,
   "metadata": {
    "collapsed": true
   },
   "outputs": [],
   "source": [
    "passlist = input_string(4)"
   ]
  },
  {
   "cell_type": "code",
   "execution_count": 17,
   "metadata": {},
   "outputs": [
    {
     "name": "stdout",
     "output_type": "stream",
     "text": [
      "265\n"
     ]
    }
   ],
   "source": [
    "def nodups(list):\n",
    "    return len(list) == len(set(list))\n",
    "\n",
    "count = 0\n",
    "for l in passlist.split('\\n'):\n",
    "    if nodups([''.join(sorted(word)) for word in l.split()]):\n",
    "        count = count + 1\n",
    "\n",
    "print(count)\n",
    "\n",
    "# so lazy. ''.join(sorted(word)) -> word for first star"
   ]
  },
  {
   "cell_type": "markdown",
   "metadata": {
    "collapsed": true
   },
   "source": [
    "# Day 5"
   ]
  },
  {
   "cell_type": "code",
   "execution_count": 27,
   "metadata": {},
   "outputs": [
    {
     "name": "stdout",
     "output_type": "stream",
     "text": [
      "27477714\n"
     ]
    }
   ],
   "source": [
    "jumplist = input_string(5)\n",
    "    \n",
    "jumps = [int(l) for l in jumplist.split()]\n",
    "# jumps = [0, 3, 0, 1, -3]\n",
    "last = len(jumps)\n",
    "\n",
    "steps = 0\n",
    "pos = 0\n",
    "while pos >= 0 and pos < last:\n",
    "    next = pos + jumps[pos]\n",
    "    if jumps[pos] >= 3:\n",
    "        jumps[pos] -= 1\n",
    "    else:\n",
    "        jumps[pos] += 1\n",
    "    steps += 1\n",
    "    pos = next\n",
    "print(steps)"
   ]
  },
  {
   "cell_type": "markdown",
   "metadata": {
    "collapsed": true
   },
   "source": [
    "# Day 6"
   ]
  },
  {
   "cell_type": "code",
   "execution_count": 3,
   "metadata": {
    "collapsed": true
   },
   "outputs": [],
   "source": [
    "inputstring = \"4\t10\t4\t1\t8\t4\t9\t14\t5\t1\t14\t15\t0\t15\t3\t5\""
   ]
  },
  {
   "cell_type": "code",
   "execution_count": 75,
   "metadata": {},
   "outputs": [
    {
     "name": "stdout",
     "output_type": "stream",
     "text": [
      "tests passed\n"
     ]
    }
   ],
   "source": [
    "def realloc(istr, diff=False):\n",
    "    array = [int(x) for x in istr.split()]\n",
    "    seen = {}\n",
    "    iters = 0\n",
    "    while tuple(array) not in seen:\n",
    "        iters += 1\n",
    "        seen[tuple(array)] = iters\n",
    "        i, count = max(enumerate(array), key = lambda x: x[1])\n",
    "        array[i] = 0\n",
    "        while count > 0:\n",
    "            i = (i+1) % len(array)\n",
    "            array[i] += 1\n",
    "            count -= 1\n",
    "    return iters - seen[tuple(array)] + 1 if diff else iters\n",
    "\n",
    "def test():\n",
    "    assert realloc(\"0 2 7 0\") == 5\n",
    "    assert realloc(\"0 2 7 0\", True) == 4\n",
    "    print(\"tests passed\")\n",
    "    \n",
    "test()"
   ]
  },
  {
   "cell_type": "code",
   "execution_count": 74,
   "metadata": {},
   "outputs": [
    {
     "data": {
      "text/plain": [
       "8038"
      ]
     },
     "execution_count": 74,
     "metadata": {},
     "output_type": "execute_result"
    }
   ],
   "source": [
    "realloc(inputstring, True)"
   ]
  },
  {
   "cell_type": "markdown",
   "metadata": {},
   "source": [
    "# Day 7"
   ]
  },
  {
   "cell_type": "code",
   "execution_count": 143,
   "metadata": {
    "collapsed": true
   },
   "outputs": [],
   "source": [
    "inputstring = input_string(7)"
   ]
  },
  {
   "cell_type": "code",
   "execution_count": 144,
   "metadata": {
    "collapsed": true
   },
   "outputs": [],
   "source": [
    "def diffkey(l):\n",
    "    vals = sorted([v for k, v in l])\n",
    "    if vals.count(vals[0]) == 1:\n",
    "        diffval = vals[0]\n",
    "    elif vals.count(vals[-1]) ==1:\n",
    "        diffval = vals[-1]\n",
    "    else:\n",
    "        return None\n",
    "    for k, v in l:\n",
    "        if v == diffval:\n",
    "            return k\n",
    "    return None # not really needed\n",
    "   \n",
    "def mktower(istr):\n",
    "    proclist = {}\n",
    "    weight = {}\n",
    "    children = {}\n",
    "\n",
    "    scale = lambda x: weight[x] + sum([scale(c) for c in children[x]])\n",
    "\n",
    "    for l in istr.split('\\n'):\n",
    "        word = l.split()\n",
    "        if word[0] not in proclist:\n",
    "            proclist[word[0]] = 0\n",
    "            children[word[0]] = []\n",
    "        weight[word[0]] = int(word[1][1:-1])\n",
    "\n",
    "        if len(word) > 2:\n",
    "            for p in word[3:]:\n",
    "                p = p.rstrip(',')\n",
    "                children[word[0]].append(p)\n",
    "                if p in proclist:\n",
    "                    proclist[p] += 1\n",
    "                else:\n",
    "                    proclist[p] = 1\n",
    "                    children[p] = []\n",
    "\n",
    "    for key, val in proclist.items():\n",
    "        if val == 0:\n",
    "            root = key\n",
    "            print(\"root is %s\" % root)\n",
    "\n",
    "    which = root\n",
    "    while which:\n",
    "        masses = [(c, scale(c)) for c in children[which]]\n",
    "        nextkey = diffkey(masses)\n",
    "        if nextkey == None:\n",
    "            masses = sorted([scale(c) for c in children[root]])\n",
    "            err = masses[-1] - masses[1] if masses[-1] > masses[1] else masses[1] - masses[0]\n",
    "            print(\"%s (%d) should have weight %d\" % (which, weight[which], weight[which] - err))\n",
    "        which = nextkey"
   ]
  },
  {
   "cell_type": "code",
   "execution_count": 145,
   "metadata": {},
   "outputs": [
    {
     "name": "stdout",
     "output_type": "stream",
     "text": [
      "root is vtzay\n",
      "lnpuarm (918) should have weight 910\n"
     ]
    }
   ],
   "source": [
    "mktower(inputstring)"
   ]
  },
  {
   "cell_type": "code",
   "execution_count": 146,
   "metadata": {
    "collapsed": true
   },
   "outputs": [],
   "source": [
    "test = \"\"\"pbga (66)\n",
    "xhth (57)\n",
    "ebii (61)\n",
    "havc (66)\n",
    "ktlj (57)\n",
    "fwft (72) -> ktlj, cntj, xhth\n",
    "qoyq (66)\n",
    "padx (45) -> pbga, havc, qoyq\n",
    "tknk (41) -> ugml, padx, fwft\n",
    "jptl (61)\n",
    "ugml (68) -> gyxo, ebii, jptl\n",
    "gyxo (61)\n",
    "cntj (57)\"\"\""
   ]
  },
  {
   "cell_type": "code",
   "execution_count": 147,
   "metadata": {},
   "outputs": [
    {
     "name": "stdout",
     "output_type": "stream",
     "text": [
      "root is tknk\n",
      "ugml (68) should have weight 60\n"
     ]
    }
   ],
   "source": [
    "mktower(test)"
   ]
  },
  {
   "cell_type": "markdown",
   "metadata": {
    "collapsed": true
   },
   "source": [
    "# Day 8"
   ]
  },
  {
   "cell_type": "code",
   "execution_count": 46,
   "metadata": {
    "collapsed": true
   },
   "outputs": [],
   "source": [
    "instruct = input_string(8)"
   ]
  },
  {
   "cell_type": "code",
   "execution_count": 64,
   "metadata": {
    "collapsed": true
   },
   "outputs": [],
   "source": [
    "import re\n",
    "\n",
    "def runcode(lines):\n",
    "    regs, rmax = {}, 0\n",
    "    for l in lines.split('\\n'):\n",
    "        ops = l.split()\n",
    "        regs[ops[0]] = 0\n",
    "    for l in lines.split('\\n'):\n",
    "        ops = l.split()\n",
    "        torun = \"regs['%s'] %s %s if regs['%s'] %s %s\" % \\\n",
    "                (ops[0], \"+=\" if ops[1]==\"inc\" else \"-=\", ops[2], ops[4], ' '.join(ops[5:]), \"else 0\")\n",
    "        exec(torun)\n",
    "        rmax = max(rmax, max(regs.values()))\n",
    "    print(max(regs.values()), rmax)"
   ]
  },
  {
   "cell_type": "code",
   "execution_count": 65,
   "metadata": {},
   "outputs": [
    {
     "name": "stdout",
     "output_type": "stream",
     "text": [
      "7787 8997\n"
     ]
    }
   ],
   "source": [
    "runcode(instruct)"
   ]
  },
  {
   "cell_type": "markdown",
   "metadata": {},
   "source": [
    "# Day 9"
   ]
  },
  {
   "cell_type": "code",
   "execution_count": 2,
   "metadata": {
    "collapsed": true
   },
   "outputs": [],
   "source": [
    "stream = input_string(9)"
   ]
  },
  {
   "cell_type": "code",
   "execution_count": 18,
   "metadata": {
    "collapsed": true
   },
   "outputs": [],
   "source": [
    "def score(s):\n",
    "    in_garbage = False\n",
    "    in_escape = False\n",
    "    garbage = 0\n",
    "    total = 0\n",
    "    level = 0\n",
    "    for c in s:\n",
    "        if in_escape:\n",
    "            in_escape = False\n",
    "        elif in_garbage:\n",
    "            if c == '!':\n",
    "                in_escape = True\n",
    "            elif c == '>':\n",
    "                in_garbage = False\n",
    "            else:\n",
    "                garbage += 1 # do nothing\n",
    "        elif c == '<':\n",
    "            in_garbage = True\n",
    "        elif c == '{':\n",
    "            level += 1\n",
    "        elif c == '}':\n",
    "            total += level\n",
    "            level -= 1\n",
    "        else:\n",
    "            total = total # do nothing\n",
    "    return total, garbage"
   ]
  },
  {
   "cell_type": "code",
   "execution_count": 24,
   "metadata": {},
   "outputs": [
    {
     "data": {
      "text/plain": [
       "(12897, 7031)"
      ]
     },
     "execution_count": 24,
     "metadata": {},
     "output_type": "execute_result"
    }
   ],
   "source": [
    "score(stream)"
   ]
  },
  {
   "cell_type": "markdown",
   "metadata": {},
   "source": [
    "# Day 10"
   ]
  },
  {
   "cell_type": "code",
   "execution_count": 129,
   "metadata": {
    "collapsed": true
   },
   "outputs": [],
   "source": [
    "input_string = '192,69,168,160,78,1,166,28,0,83,198,2,254,255,41,12'"
   ]
  },
  {
   "cell_type": "code",
   "execution_count": 73,
   "metadata": {
    "collapsed": true
   },
   "outputs": [],
   "source": [
    "def knot_hash(s, n = 256):\n",
    "    cur = 0\n",
    "    skip = 0\n",
    "    start = list(range(n))\n",
    "    l = [int(i) for i in s.split(',')]\n",
    "    for i in l:\n",
    "        start = start[cur:] + start[:cur]\n",
    "        start[0:i] = reversed(start[0:i])\n",
    "        start = start[-cur:]+start[:-cur]\n",
    "        cur += i + skip\n",
    "        cur %= n\n",
    "        skip += 1\n",
    "    print(start)"
   ]
  },
  {
   "cell_type": "code",
   "execution_count": 74,
   "metadata": {},
   "outputs": [
    {
     "name": "stdout",
     "output_type": "stream",
     "text": [
      "[3, 4, 2, 1, 0]\n"
     ]
    }
   ],
   "source": [
    "knot_hash(\"3, 4, 1, 5\", 5)"
   ]
  },
  {
   "cell_type": "code",
   "execution_count": 75,
   "metadata": {},
   "outputs": [
    {
     "name": "stdout",
     "output_type": "stream",
     "text": [
      "[191, 255, 254, 253, 252, 251, 250, 249, 237, 238, 239, 240, 241, 242, 243, 244, 245, 246, 247, 248, 236, 126, 127, 128, 129, 130, 131, 132, 133, 134, 135, 136, 137, 138, 139, 140, 168, 167, 166, 165, 164, 163, 162, 161, 160, 159, 158, 157, 156, 155, 154, 153, 152, 151, 150, 149, 148, 147, 146, 145, 144, 143, 142, 141, 169, 170, 171, 172, 94, 93, 183, 184, 185, 17, 16, 91, 90, 89, 88, 87, 86, 85, 84, 83, 82, 81, 80, 79, 78, 77, 76, 75, 74, 73, 72, 71, 70, 69, 68, 67, 66, 65, 64, 63, 62, 61, 60, 59, 58, 57, 56, 55, 54, 53, 52, 51, 50, 49, 48, 47, 46, 45, 44, 43, 42, 41, 40, 39, 38, 37, 36, 35, 34, 33, 32, 31, 30, 29, 28, 27, 26, 25, 24, 23, 22, 21, 20, 19, 18, 186, 192, 193, 194, 195, 196, 197, 198, 199, 200, 201, 202, 203, 204, 205, 206, 207, 208, 209, 210, 211, 212, 213, 214, 215, 216, 217, 218, 219, 220, 221, 222, 223, 224, 225, 226, 9, 10, 11, 12, 13, 14, 15, 92, 182, 181, 179, 180, 178, 177, 176, 175, 174, 173, 95, 96, 97, 99, 98, 100, 2, 3, 4, 5, 6, 7, 8, 227, 228, 229, 230, 231, 232, 233, 234, 235, 125, 124, 123, 122, 121, 120, 119, 118, 117, 116, 115, 114, 113, 112, 111, 110, 109, 108, 107, 106, 105, 104, 103, 102, 101, 1, 0, 187, 188, 189, 190]\n"
     ]
    }
   ],
   "source": [
    "knot_hash(input_string)"
   ]
  },
  {
   "cell_type": "code",
   "execution_count": 46,
   "metadata": {
    "collapsed": true
   },
   "outputs": [],
   "source": [
    "from functools import reduce\n",
    "import operator\n",
    "\n",
    "def knot_hash2(s, n = 256):\n",
    "    cur = 0\n",
    "    skip = 0\n",
    "    start = list(range(n))\n",
    "    l = [ord(c) for c in s] + [17, 31, 73, 47, 23]\n",
    "    for _ in range(64):\n",
    "        for i in l:\n",
    "            start = start[cur:] + start[:cur]\n",
    "            start[0:i] = reversed(start[0:i])\n",
    "            start = start[-cur:]+start[:-cur]\n",
    "            cur += i + skip\n",
    "            cur %= n\n",
    "            skip += 1\n",
    "    chopped = [start[16*i:16*i+16] for i in range(16)]\n",
    "    xored = [reduce(operator.xor, ch) for ch in chopped]\n",
    "    return ''.join(['%02x' % x for x in xored])\n",
    "#    return ''.join([format(x, '#010b')[2:] for x in xored]) # Needed for day 14, outputs binary\n",
    "\n",
    "    \n",
    "def test():\n",
    "    assert knot_hash2('') == 'a2582a3a0e66e6e86e3812dcb672a272'\n",
    "    assert knot_hash2('AoC 2017') == '33efeb34ea91902bb2f59c9920caa6cd'\n",
    "#test()"
   ]
  },
  {
   "cell_type": "code",
   "execution_count": 8,
   "metadata": {},
   "outputs": [
    {
     "ename": "NameError",
     "evalue": "name 'input_string' is not defined",
     "output_type": "error",
     "traceback": [
      "\u001b[0;31m---------------------------------------------------------------------------\u001b[0m",
      "\u001b[0;31mNameError\u001b[0m                                 Traceback (most recent call last)",
      "\u001b[0;32m<ipython-input-8-ce6fae924c58>\u001b[0m in \u001b[0;36m<module>\u001b[0;34m()\u001b[0m\n\u001b[0;32m----> 1\u001b[0;31m \u001b[0mknot_hash2\u001b[0m\u001b[0;34m(\u001b[0m\u001b[0minput_string\u001b[0m\u001b[0;34m)\u001b[0m\u001b[0;34m\u001b[0m\u001b[0m\n\u001b[0m",
      "\u001b[0;31mNameError\u001b[0m: name 'input_string' is not defined"
     ]
    }
   ],
   "source": [
    "knot_hash2(input_string)"
   ]
  },
  {
   "cell_type": "markdown",
   "metadata": {},
   "source": [
    "# Day 11"
   ]
  },
  {
   "cell_type": "code",
   "execution_count": 82,
   "metadata": {
    "collapsed": true
   },
   "outputs": [],
   "source": [
    "direct = input_string(11)"
   ]
  },
  {
   "cell_type": "code",
   "execution_count": 118,
   "metadata": {
    "collapsed": true
   },
   "outputs": [],
   "source": [
    "from math import sqrt\n",
    "\n",
    "s3 = sqrt(3.0)/2.0\n",
    "\n",
    "def steps(z):\n",
    "    x = z.real / s3\n",
    "    y = z.imag - x/2\n",
    "    return x,y\n",
    "\n",
    "def walk(st):\n",
    "    compass = {'n' : 1j, 's': -1j, 'ne': s3+0.5*1j, 'se': s3-0.5*1j, 'nw': -s3+0.5*1j, 'sw': -s3-0.5*1j}\n",
    "    coord = 0.0\n",
    "    dist = 0\n",
    "    \n",
    "    for d in st.split(','):\n",
    "        coord += compass[d]\n",
    "        x, y = steps(coord)\n",
    "        dist = max(dist, abs(x)+abs(y))\n",
    "    print(steps(coord))\n",
    "    print(dist)"
   ]
  },
  {
   "cell_type": "code",
   "execution_count": 119,
   "metadata": {},
   "outputs": [
    {
     "name": "stdout",
     "output_type": "stream",
     "text": [
      "(472.99999999999756, 209.00000000000122)\n",
      "1405.9999999999977\n"
     ]
    }
   ],
   "source": [
    "walk(direct)"
   ]
  },
  {
   "cell_type": "markdown",
   "metadata": {},
   "source": [
    "# Day 12"
   ]
  },
  {
   "cell_type": "code",
   "execution_count": 30,
   "metadata": {
    "collapsed": true
   },
   "outputs": [],
   "source": [
    "inputstring = input_string(12)"
   ]
  },
  {
   "cell_type": "code",
   "execution_count": 42,
   "metadata": {},
   "outputs": [
    {
     "name": "stdout",
     "output_type": "stream",
     "text": [
      "175 213\n"
     ]
    }
   ],
   "source": [
    "def clusters(inputstring):\n",
    "    clusters = {}\n",
    "    edge = {}\n",
    "    for l in inputstring.split('\\n'):\n",
    "        node, nbrs = l.split('<->')\n",
    "        node = int(node)\n",
    "        edge[node] = set()\n",
    "        for v in nbrs.split(','):\n",
    "            edge[node].add(int(v))\n",
    "\n",
    "    while edge.keys():\n",
    "        cluster = [min(edge.keys())]\n",
    "        for v in cluster:\n",
    "            for nv in edge[v]:\n",
    "                if nv not in cluster:\n",
    "                    cluster.append(nv)\n",
    "        clusters[min(cluster)] = sorted(cluster)\n",
    "        for v in cluster:\n",
    "            del edge[v]\n",
    "    return clusters\n",
    "\n",
    "c = clusters(inputstring)\n",
    "print(len(c[0]), len(c.keys()))"
   ]
  },
  {
   "cell_type": "code",
   "execution_count": 8,
   "metadata": {
    "collapsed": true
   },
   "outputs": [],
   "source": [
    "inputstring = input_string(13)"
   ]
  },
  {
   "cell_type": "code",
   "execution_count": 2,
   "metadata": {
    "collapsed": true
   },
   "outputs": [],
   "source": [
    "teststr = \"\"\"0: 3\n",
    "1: 2\n",
    "4: 4\n",
    "6: 4\"\"\""
   ]
  },
  {
   "cell_type": "code",
   "execution_count": 3,
   "metadata": {
    "collapsed": true
   },
   "outputs": [],
   "source": [
    "def firewall(istring, delay=0):\n",
    "    fw = {}\n",
    "    for l in istring.split('\\n'):\n",
    "        n, d = l.split(':')\n",
    "        fw[int(n)] = int(d)\n",
    "    last = max(fw.keys())\n",
    "\n",
    "    sev = 0\n",
    "    for l in range(last+1):\n",
    "        if l in fw:\n",
    "            if (l+delay)%(2*(fw[l]-1)) == 0:\n",
    "#                print(\"caught at %d(%d) at %d\" % (l, fw[l], l))\n",
    "                sev += l*fw[l]\n",
    "                if l == 0:\n",
    "                    sev = 1\n",
    "    return(sev)\n",
    "\n",
    "def safety(istring):\n",
    "    d = 0\n",
    "    while True:\n",
    "        delay = firewall(istring, d)\n",
    "        if delay == 0:\n",
    "            print(\"Safe!!!\", d, delay)\n",
    "            return\n",
    "        d += 1"
   ]
  },
  {
   "cell_type": "code",
   "execution_count": 15,
   "metadata": {},
   "outputs": [
    {
     "name": "stdout",
     "output_type": "stream",
     "text": [
      "3830344 is safe\n"
     ]
    }
   ],
   "source": [
    "def safepass(istring):\n",
    "    fw = {}\n",
    "    for l in istring.split('\\n'):\n",
    "        n, d = l.split(':')\n",
    "        fw[int(n)] = int(d)\n",
    "    last = max(fw.keys())\n",
    "\n",
    "    def safe(delay):\n",
    "        sev = 0\n",
    "        for l in range(last+1):\n",
    "            if l in fw:\n",
    "                if (l+delay)%(2*(fw[l]-1)) == 0:\n",
    "                    return False\n",
    "        return True\n",
    "\n",
    "    d = 0\n",
    "    while True:\n",
    "        if safe(d):\n",
    "            print(d, \"is safe\")\n",
    "            return\n",
    "        d += 1\n",
    "\n",
    "safepass(input_string(13))"
   ]
  },
  {
   "cell_type": "code",
   "execution_count": 14,
   "metadata": {},
   "outputs": [
    {
     "name": "stdout",
     "output_type": "stream",
     "text": [
      "3830344 is safe\n"
     ]
    }
   ],
   "source": [
    "safepass(inputstring)"
   ]
  },
  {
   "cell_type": "markdown",
   "metadata": {
    "collapsed": true
   },
   "source": [
    "# Day 14"
   ]
  },
  {
   "cell_type": "code",
   "execution_count": 24,
   "metadata": {
    "collapsed": true
   },
   "outputs": [],
   "source": [
    "def defrag(key = 'xlqgujun'):\n",
    "    ones = 0\n",
    "    for i in range(128):\n",
    "        ones += knot_hash2('%s-%d' % (key, i)).count('1')\n",
    "    return ones"
   ]
  },
  {
   "cell_type": "code",
   "execution_count": 51,
   "metadata": {
    "collapsed": true
   },
   "outputs": [],
   "source": [
    "def defrag(key = 'xlqgujun'):\n",
    "    neighbors = lambda i, j: [(i-1,j), (i+1,j), (i,j-1), (i,j+1)]\n",
    "    ones = 0\n",
    "    grid = [130*'0']\n",
    "    for i in range(128):\n",
    "        grid.append('0'+'{:0128b}'.format(int(knot_hash2('%s-%d' % (key, i)), 16))+'0')\n",
    "    grid.append(130*'0')\n",
    "    color = 0\n",
    "    grid = [[int(c) for c in l] for l in grid]\n",
    "    for j in range(1,130):\n",
    "        for i in range(1,130):\n",
    "            if grid[j][i]:\n",
    "                color += 1\n",
    "                nbrhd = [(i,j)]\n",
    "                for (ni, nj) in nbrhd:\n",
    "                    if grid[nj][ni]:\n",
    "                        grid[nj][ni] = 0\n",
    "                        nbrhd += [(di, dj) for (di, dj) in neighbors(ni,nj) if grid[dj][di]]\n",
    "    print(color)"
   ]
  },
  {
   "cell_type": "code",
   "execution_count": 62,
   "metadata": {
    "scrolled": true
   },
   "outputs": [
    {
     "name": "stdout",
     "output_type": "stream",
     "text": [
      "1089\n"
     ]
    }
   ],
   "source": [
    "defrag()"
   ]
  },
  {
   "cell_type": "markdown",
   "metadata": {},
   "source": [
    "# Day 15"
   ]
  },
  {
   "cell_type": "code",
   "execution_count": 137,
   "metadata": {
    "collapsed": true
   },
   "outputs": [],
   "source": [
    "def generator(factor = 16807, start = 65, mult = 4):\n",
    "    val = start\n",
    "    while True:\n",
    "        val = (val * factor) % 2147483647\n",
    "        if val % mult == 0:\n",
    "            yield (val & 0xffff)\n",
    "\n",
    "def judge():\n",
    "    genA = generator(factor = 16807, start = 783, mult = 4)\n",
    "    genB = generator(factor = 48271, start = 325, mult = 8)\n",
    "    C = zip(genA, genB)\n",
    "\n",
    "    count = 0\n",
    "    for _ in range(5000000):\n",
    "        a,b = next(C)\n",
    "        if a == b:\n",
    "            count += 1\n",
    "    print(count)\n",
    "    \n",
    "#judge()"
   ]
  },
  {
   "cell_type": "code",
   "execution_count": 108,
   "metadata": {
    "collapsed": true
   },
   "outputs": [],
   "source": [
    "A = generator(); B = generator(factor = 48271, start = 8921)"
   ]
  },
  {
   "cell_type": "code",
   "execution_count": 109,
   "metadata": {
    "collapsed": true
   },
   "outputs": [],
   "source": [
    "C = zip(A, B)"
   ]
  },
  {
   "cell_type": "code",
   "execution_count": 139,
   "metadata": {
    "collapsed": true
   },
   "outputs": [],
   "source": [
    "def fastjudge():\n",
    "    A, B = 783, 325\n",
    "\n",
    "    count = 0\n",
    "    for _ in range(5000000):\n",
    "        Acond = True\n",
    "        while Acond:\n",
    "            A = (A * 16807) % 2147483647\n",
    "            Acond = A & 3\n",
    "        Bcond = True\n",
    "        while Bcond:\n",
    "            B = (B * 48271) % 2147483647\n",
    "            Bcond = B & 7\n",
    "        if (A&0xffff) == (B&0xffff):\n",
    "            count += 1\n",
    "    print(count)\n"
   ]
  },
  {
   "cell_type": "code",
   "execution_count": 141,
   "metadata": {},
   "outputs": [
    {
     "name": "stdout",
     "output_type": "stream",
     "text": [
      "336\n",
      "336\n",
      "336\n",
      "336\n",
      "336\n",
      "336\n",
      "336\n",
      "14.8 s ± 254 ms per loop (mean ± std. dev. of 7 runs, 1 loop each)\n"
     ]
    }
   ],
   "source": [
    "fastjudge()"
   ]
  },
  {
   "cell_type": "markdown",
   "metadata": {},
   "source": [
    "# Day 16"
   ]
  },
  {
   "cell_type": "code",
   "execution_count": 133,
   "metadata": {
    "collapsed": true
   },
   "outputs": [],
   "source": [
    "inputstring = input_string(16).strip()\n",
    "inputstring = 'x0/1,x1/2,x2/3,x3/4,x4/5,x5/6,x7/8,x8/9,x9/10,x10/11,x12/13,x13/14,x14/15,pa/b,pb/c,pc/d,pd/e,pe/f,pf/g,pg/h,ph/i,pi/j,pj/k,pk/l,pl/m,pn/o,po/p'"
   ]
  },
  {
   "cell_type": "code",
   "execution_count": 137,
   "metadata": {},
   "outputs": [
    {
     "name": "stdout",
     "output_type": "stream",
     "text": [
      "loop! 5460 abcdefghijklmnop\n",
      "loop! 5461 abcdefmhijkgpnol\n",
      "loop! 5462 abcdelmhijfgpnko\n",
      "loop! 5463 abcdklmhiefgpjno\n",
      "loop! 5464 abcjklmhdefgipno\n",
      "loop! 5465 abijklmcdefgopnh\n",
      "loop! 5466 ahijklmcdefbopgn\n",
      "loop! 5467 ghijklmcdeabofpn\n",
      "loop! 5468 ghijklfcdmabeopn\n",
      "loop! 5469 ghijkefclmabnopd\n",
      "loop! 5470 ghijdefklmabnocp\n",
      "loop! 5471 ghicdefklmajnbop\n",
      "loop! 5472 ghbcdefklmijanop\n",
      "loop! 5473 gabcdefklhijpnom\n",
      "loop! 5474 mabcdefkghijpnlo\n",
      "loop! 5475 mabcdelfghijpkno\n",
      "loop! 5476 mabcdklfghiejpno\n",
      "loop! 5477 mabcjklfghdeopni\n",
      "loop! 5478 mabijklfgcdeophn\n",
      "loop! 5479 mahijklfbcdeogpn\n",
      "loop! 5480 mghijklabcdefopn\n",
      "loop! 5481 fghijklabcdmnope\n",
      "loop! 5482 fghijkeabclmnodp\n",
      "loop! 5483 fghijdeabklmncop\n",
      "loop! 5484 fghicdeajklmbnop\n",
      "loop! 5485 fghbcdeijklmpnoa\n",
      "loop! 5486 fgabcdeijklhpnmo\n",
      "loop! 5487 fmabcdeijkghplno\n",
      "loop! 5488 lmabcdeijfghkpno\n",
      "loop! 5489 lmabcdkiefghopnj\n",
      "loop! 5490 lmabcjkdefghopin\n",
      "loop! 5491 lmabijkdefgcohpn\n",
      "loop! 5492 lmahijkdefbcgopn\n",
      "loop! 5493 lmghijkdeabcnopf\n",
      "loop! 5494 lfghijkdmabcnoep\n",
      "loop! 5495 efghijklmabcndop\n",
      "loop! 5496 efghijdlmabkcnop\n",
      "loop! 5497 efghicdlmajkpnob\n",
      "loop! 5498 efghbcdlmijkpnao\n",
      "loop! 5499 efgabcdlhijkpmno\n",
      "efmabcdghijklpno\n",
      "loop! 5460 abcdefghijklmnop\n",
      "loop! 5461 abcdefmhijkgpnol\n",
      "loop! 5462 abcdelmhijfgpnko\n",
      "loop! 5463 abcdklmhiefgpjno\n",
      "loop! 5464 abcjklmhdefgipno\n",
      "loop! 5465 abijklmcdefgopnh\n",
      "loop! 5466 ahijklmcdefbopgn\n",
      "loop! 5467 ghijklmcdeabofpn\n",
      "loop! 5468 ghijklfcdmabeopn\n",
      "loop! 5469 ghijkefclmabnopd\n",
      "loop! 5470 ghijdefklmabnocp\n",
      "loop! 5471 ghicdefklmajnbop\n",
      "loop! 5472 ghbcdefklmijanop\n",
      "loop! 5473 gabcdefklhijpnom\n",
      "loop! 5474 mabcdefkghijpnlo\n",
      "loop! 5475 mabcdelfghijpkno\n",
      "loop! 5476 mabcdklfghiejpno\n",
      "loop! 5477 mabcjklfghdeopni\n",
      "loop! 5478 mabijklfgcdeophn\n",
      "loop! 5479 mahijklfbcdeogpn\n",
      "loop! 5480 mghijklabcdefopn\n",
      "loop! 5481 fghijklabcdmnope\n",
      "loop! 5482 fghijkeabclmnodp\n",
      "loop! 5483 fghijdeabklmncop\n",
      "loop! 5484 fghicdeajklmbnop\n",
      "loop! 5485 fghbcdeijklmpnoa\n",
      "loop! 5486 fgabcdeijklhpnmo\n",
      "loop! 5487 fmabcdeijkghplno\n",
      "loop! 5488 lmabcdeijfghkpno\n",
      "loop! 5489 lmabcdkiefghopnj\n",
      "loop! 5490 lmabcjkdefghopin\n",
      "loop! 5491 lmabijkdefgcohpn\n",
      "loop! 5492 lmahijkdefbcgopn\n",
      "loop! 5493 lmghijkdeabcnopf\n",
      "loop! 5494 lfghijkdmabcnoep\n",
      "loop! 5495 efghijklmabcndop\n",
      "loop! 5496 efghijdlmabkcnop\n",
      "loop! 5497 efghicdlmajkpnob\n",
      "loop! 5498 efghbcdlmijkpnao\n",
      "loop! 5499 efgabcdlhijkpmno\n",
      "efmabcdghijklpno\n",
      "loop! 5460 abcdefghijklmnop\n",
      "loop! 5461 abcdefmhijkgpnol\n",
      "loop! 5462 abcdelmhijfgpnko\n",
      "loop! 5463 abcdklmhiefgpjno\n",
      "loop! 5464 abcjklmhdefgipno\n",
      "loop! 5465 abijklmcdefgopnh\n",
      "loop! 5466 ahijklmcdefbopgn\n",
      "loop! 5467 ghijklmcdeabofpn\n",
      "loop! 5468 ghijklfcdmabeopn\n",
      "loop! 5469 ghijkefclmabnopd\n",
      "loop! 5470 ghijdefklmabnocp\n",
      "loop! 5471 ghicdefklmajnbop\n",
      "loop! 5472 ghbcdefklmijanop\n",
      "loop! 5473 gabcdefklhijpnom\n",
      "loop! 5474 mabcdefkghijpnlo\n",
      "loop! 5475 mabcdelfghijpkno\n",
      "loop! 5476 mabcdklfghiejpno\n",
      "loop! 5477 mabcjklfghdeopni\n",
      "loop! 5478 mabijklfgcdeophn\n",
      "loop! 5479 mahijklfbcdeogpn\n",
      "loop! 5480 mghijklabcdefopn\n",
      "loop! 5481 fghijklabcdmnope\n",
      "loop! 5482 fghijkeabclmnodp\n",
      "loop! 5483 fghijdeabklmncop\n",
      "loop! 5484 fghicdeajklmbnop\n",
      "loop! 5485 fghbcdeijklmpnoa\n",
      "loop! 5486 fgabcdeijklhpnmo\n",
      "loop! 5487 fmabcdeijkghplno\n",
      "loop! 5488 lmabcdeijfghkpno\n",
      "loop! 5489 lmabcdkiefghopnj\n",
      "loop! 5490 lmabcjkdefghopin\n",
      "loop! 5491 lmabijkdefgcohpn\n",
      "loop! 5492 lmahijkdefbcgopn\n",
      "loop! 5493 lmghijkdeabcnopf\n",
      "loop! 5494 lfghijkdmabcnoep\n",
      "loop! 5495 efghijklmabcndop\n",
      "loop! 5496 efghijdlmabkcnop\n",
      "loop! 5497 efghicdlmajkpnob\n",
      "loop! 5498 efghbcdlmijkpnao\n",
      "loop! 5499 efgabcdlhijkpmno\n",
      "efmabcdghijklpno\n",
      "loop! 5460 abcdefghijklmnop\n",
      "loop! 5461 abcdefmhijkgpnol\n",
      "loop! 5462 abcdelmhijfgpnko\n",
      "loop! 5463 abcdklmhiefgpjno\n",
      "loop! 5464 abcjklmhdefgipno\n",
      "loop! 5465 abijklmcdefgopnh\n",
      "loop! 5466 ahijklmcdefbopgn\n",
      "loop! 5467 ghijklmcdeabofpn\n",
      "loop! 5468 ghijklfcdmabeopn\n",
      "loop! 5469 ghijkefclmabnopd\n",
      "loop! 5470 ghijdefklmabnocp\n",
      "loop! 5471 ghicdefklmajnbop\n",
      "loop! 5472 ghbcdefklmijanop\n",
      "loop! 5473 gabcdefklhijpnom\n",
      "loop! 5474 mabcdefkghijpnlo\n",
      "loop! 5475 mabcdelfghijpkno\n",
      "loop! 5476 mabcdklfghiejpno\n",
      "loop! 5477 mabcjklfghdeopni\n",
      "loop! 5478 mabijklfgcdeophn\n",
      "loop! 5479 mahijklfbcdeogpn\n",
      "loop! 5480 mghijklabcdefopn\n",
      "loop! 5481 fghijklabcdmnope\n",
      "loop! 5482 fghijkeabclmnodp\n",
      "loop! 5483 fghijdeabklmncop\n",
      "loop! 5484 fghicdeajklmbnop\n",
      "loop! 5485 fghbcdeijklmpnoa\n",
      "loop! 5486 fgabcdeijklhpnmo\n",
      "loop! 5487 fmabcdeijkghplno\n",
      "loop! 5488 lmabcdeijfghkpno\n",
      "loop! 5489 lmabcdkiefghopnj\n",
      "loop! 5490 lmabcjkdefghopin\n",
      "loop! 5491 lmabijkdefgcohpn\n",
      "loop! 5492 lmahijkdefbcgopn\n",
      "loop! 5493 lmghijkdeabcnopf\n",
      "loop! 5494 lfghijkdmabcnoep\n",
      "loop! 5495 efghijklmabcndop\n",
      "loop! 5496 efghijdlmabkcnop\n",
      "loop! 5497 efghicdlmajkpnob\n",
      "loop! 5498 efghbcdlmijkpnao\n",
      "loop! 5499 efgabcdlhijkpmno\n",
      "efmabcdghijklpno\n",
      "loop! 5460 abcdefghijklmnop\n",
      "loop! 5461 abcdefmhijkgpnol\n",
      "loop! 5462 abcdelmhijfgpnko\n",
      "loop! 5463 abcdklmhiefgpjno\n",
      "loop! 5464 abcjklmhdefgipno\n",
      "loop! 5465 abijklmcdefgopnh\n",
      "loop! 5466 ahijklmcdefbopgn\n",
      "loop! 5467 ghijklmcdeabofpn\n",
      "loop! 5468 ghijklfcdmabeopn\n",
      "loop! 5469 ghijkefclmabnopd\n",
      "loop! 5470 ghijdefklmabnocp\n",
      "loop! 5471 ghicdefklmajnbop\n",
      "loop! 5472 ghbcdefklmijanop\n",
      "loop! 5473 gabcdefklhijpnom\n",
      "loop! 5474 mabcdefkghijpnlo\n",
      "loop! 5475 mabcdelfghijpkno\n",
      "loop! 5476 mabcdklfghiejpno\n",
      "loop! 5477 mabcjklfghdeopni\n",
      "loop! 5478 mabijklfgcdeophn\n",
      "loop! 5479 mahijklfbcdeogpn\n",
      "loop! 5480 mghijklabcdefopn\n",
      "loop! 5481 fghijklabcdmnope\n",
      "loop! 5482 fghijkeabclmnodp\n",
      "loop! 5483 fghijdeabklmncop\n",
      "loop! 5484 fghicdeajklmbnop\n",
      "loop! 5485 fghbcdeijklmpnoa\n",
      "loop! 5486 fgabcdeijklhpnmo\n",
      "loop! 5487 fmabcdeijkghplno\n",
      "loop! 5488 lmabcdeijfghkpno\n",
      "loop! 5489 lmabcdkiefghopnj\n",
      "loop! 5490 lmabcjkdefghopin\n",
      "loop! 5491 lmabijkdefgcohpn\n",
      "loop! 5492 lmahijkdefbcgopn\n",
      "loop! 5493 lmghijkdeabcnopf\n",
      "loop! 5494 lfghijkdmabcnoep\n",
      "loop! 5495 efghijklmabcndop\n",
      "loop! 5496 efghijdlmabkcnop\n",
      "loop! 5497 efghicdlmajkpnob\n",
      "loop! 5498 efghbcdlmijkpnao\n",
      "loop! 5499 efgabcdlhijkpmno\n",
      "efmabcdghijklpno\n",
      "loop! 5460 abcdefghijklmnop\n",
      "loop! 5461 abcdefmhijkgpnol\n",
      "loop! 5462 abcdelmhijfgpnko\n",
      "loop! 5463 abcdklmhiefgpjno\n",
      "loop! 5464 abcjklmhdefgipno\n",
      "loop! 5465 abijklmcdefgopnh\n",
      "loop! 5466 ahijklmcdefbopgn\n",
      "loop! 5467 ghijklmcdeabofpn\n",
      "loop! 5468 ghijklfcdmabeopn\n",
      "loop! 5469 ghijkefclmabnopd\n",
      "loop! 5470 ghijdefklmabnocp\n",
      "loop! 5471 ghicdefklmajnbop\n",
      "loop! 5472 ghbcdefklmijanop\n",
      "loop! 5473 gabcdefklhijpnom\n",
      "loop! 5474 mabcdefkghijpnlo\n",
      "loop! 5475 mabcdelfghijpkno\n",
      "loop! 5476 mabcdklfghiejpno\n",
      "loop! 5477 mabcjklfghdeopni\n",
      "loop! 5478 mabijklfgcdeophn\n",
      "loop! 5479 mahijklfbcdeogpn\n",
      "loop! 5480 mghijklabcdefopn\n",
      "loop! 5481 fghijklabcdmnope\n",
      "loop! 5482 fghijkeabclmnodp\n",
      "loop! 5483 fghijdeabklmncop\n",
      "loop! 5484 fghicdeajklmbnop\n",
      "loop! 5485 fghbcdeijklmpnoa\n",
      "loop! 5486 fgabcdeijklhpnmo\n",
      "loop! 5487 fmabcdeijkghplno\n",
      "loop! 5488 lmabcdeijfghkpno\n",
      "loop! 5489 lmabcdkiefghopnj\n",
      "loop! 5490 lmabcjkdefghopin\n",
      "loop! 5491 lmabijkdefgcohpn\n",
      "loop! 5492 lmahijkdefbcgopn\n",
      "loop! 5493 lmghijkdeabcnopf\n",
      "loop! 5494 lfghijkdmabcnoep\n",
      "loop! 5495 efghijklmabcndop\n",
      "loop! 5496 efghijdlmabkcnop\n",
      "loop! 5497 efghicdlmajkpnob\n",
      "loop! 5498 efghbcdlmijkpnao\n",
      "loop! 5499 efgabcdlhijkpmno\n",
      "efmabcdghijklpno\n",
      "loop! 5460 abcdefghijklmnop\n",
      "loop! 5461 abcdefmhijkgpnol\n",
      "loop! 5462 abcdelmhijfgpnko\n",
      "loop! 5463 abcdklmhiefgpjno\n",
      "loop! 5464 abcjklmhdefgipno\n",
      "loop! 5465 abijklmcdefgopnh\n",
      "loop! 5466 ahijklmcdefbopgn\n",
      "loop! 5467 ghijklmcdeabofpn\n",
      "loop! 5468 ghijklfcdmabeopn\n",
      "loop! 5469 ghijkefclmabnopd\n",
      "loop! 5470 ghijdefklmabnocp\n",
      "loop! 5471 ghicdefklmajnbop\n",
      "loop! 5472 ghbcdefklmijanop\n",
      "loop! 5473 gabcdefklhijpnom\n",
      "loop! 5474 mabcdefkghijpnlo\n",
      "loop! 5475 mabcdelfghijpkno\n",
      "loop! 5476 mabcdklfghiejpno\n",
      "loop! 5477 mabcjklfghdeopni\n",
      "loop! 5478 mabijklfgcdeophn\n",
      "loop! 5479 mahijklfbcdeogpn\n",
      "loop! 5480 mghijklabcdefopn\n",
      "loop! 5481 fghijklabcdmnope\n",
      "loop! 5482 fghijkeabclmnodp\n",
      "loop! 5483 fghijdeabklmncop\n",
      "loop! 5484 fghicdeajklmbnop\n",
      "loop! 5485 fghbcdeijklmpnoa\n",
      "loop! 5486 fgabcdeijklhpnmo\n",
      "loop! 5487 fmabcdeijkghplno\n",
      "loop! 5488 lmabcdeijfghkpno\n",
      "loop! 5489 lmabcdkiefghopnj\n",
      "loop! 5490 lmabcjkdefghopin\n",
      "loop! 5491 lmabijkdefgcohpn\n",
      "loop! 5492 lmahijkdefbcgopn\n",
      "loop! 5493 lmghijkdeabcnopf\n",
      "loop! 5494 lfghijkdmabcnoep\n",
      "loop! 5495 efghijklmabcndop\n",
      "loop! 5496 efghijdlmabkcnop\n",
      "loop! 5497 efghicdlmajkpnob\n",
      "loop! 5498 efghbcdlmijkpnao\n",
      "loop! 5499 efgabcdlhijkpmno\n",
      "efmabcdghijklpno\n",
      "loop! 5460 abcdefghijklmnop\n",
      "loop! 5461 abcdefmhijkgpnol\n",
      "loop! 5462 abcdelmhijfgpnko\n",
      "loop! 5463 abcdklmhiefgpjno\n",
      "loop! 5464 abcjklmhdefgipno\n",
      "loop! 5465 abijklmcdefgopnh\n",
      "loop! 5466 ahijklmcdefbopgn\n",
      "loop! 5467 ghijklmcdeabofpn\n",
      "loop! 5468 ghijklfcdmabeopn\n",
      "loop! 5469 ghijkefclmabnopd\n",
      "loop! 5470 ghijdefklmabnocp\n",
      "loop! 5471 ghicdefklmajnbop\n",
      "loop! 5472 ghbcdefklmijanop\n",
      "loop! 5473 gabcdefklhijpnom\n",
      "loop! 5474 mabcdefkghijpnlo\n",
      "loop! 5475 mabcdelfghijpkno\n",
      "loop! 5476 mabcdklfghiejpno\n",
      "loop! 5477 mabcjklfghdeopni\n",
      "loop! 5478 mabijklfgcdeophn\n",
      "loop! 5479 mahijklfbcdeogpn\n",
      "loop! 5480 mghijklabcdefopn\n",
      "loop! 5481 fghijklabcdmnope\n",
      "loop! 5482 fghijkeabclmnodp\n",
      "loop! 5483 fghijdeabklmncop\n",
      "loop! 5484 fghicdeajklmbnop\n",
      "loop! 5485 fghbcdeijklmpnoa\n",
      "loop! 5486 fgabcdeijklhpnmo\n",
      "loop! 5487 fmabcdeijkghplno\n",
      "loop! 5488 lmabcdeijfghkpno\n",
      "loop! 5489 lmabcdkiefghopnj\n",
      "loop! 5490 lmabcjkdefghopin\n",
      "loop! 5491 lmabijkdefgcohpn\n",
      "loop! 5492 lmahijkdefbcgopn\n",
      "loop! 5493 lmghijkdeabcnopf\n",
      "loop! 5494 lfghijkdmabcnoep\n",
      "loop! 5495 efghijklmabcndop\n",
      "loop! 5496 efghijdlmabkcnop\n",
      "loop! 5497 efghicdlmajkpnob\n",
      "loop! 5498 efghbcdlmijkpnao\n",
      "loop! 5499 efgabcdlhijkpmno\n",
      "efmabcdghijklpno\n",
      "289 ms ± 11.4 ms per loop (mean ± std. dev. of 7 runs, 1 loop each)\n"
     ]
    }
   ],
   "source": [
    "%%timeit\n",
    "danced = {}\n",
    "\n",
    "def dance(st, line = 'abcdefghijklmnop'):\n",
    "    for move in st.split(','):\n",
    "        if move[0] == 's':\n",
    "            n = int(move[1:])\n",
    "            line = line[-n:] + line[0:-n]\n",
    "        elif move[0] == 'x':\n",
    "            m, n = (int(z) for z in move[1:].split('/'))\n",
    "            tline = list(line)\n",
    "            tline[m], tline[n] = tline[n], tline[m]\n",
    "            line = ''.join(tline)\n",
    "        elif move[0] == 'p':\n",
    "            if True:\n",
    "                m, n = move[1:].split('/')\n",
    "                line = line.replace(m, '.').replace(n, m).replace('.', n)\n",
    "    return(line)\n",
    "\n",
    "line = 'abcdefghijklmnop'\n",
    "for i in range(5500):  # human loop detector notes that the dance has period 60\n",
    "    if line in danced:\n",
    "        print(\"loop!\", i, line)\n",
    "        outline = danced[line]\n",
    "    else:\n",
    "        outline = dance(inputstring, line)\n",
    "        danced[line] = outline\n",
    "    line = outline\n",
    "print(line)\n"
   ]
  },
  {
   "cell_type": "code",
   "execution_count": 109,
   "metadata": {},
   "outputs": [
    {
     "data": {
      "text/plain": [
       "'mpfjkbiohaendgcl'"
      ]
     },
     "execution_count": 109,
     "metadata": {},
     "output_type": "execute_result"
    }
   ],
   "source": [
    "dance(inputstring)"
   ]
  },
  {
   "cell_type": "markdown",
   "metadata": {},
   "source": [
    "# Day 17"
   ]
  },
  {
   "cell_type": "code",
   "execution_count": 238,
   "metadata": {
    "collapsed": true
   },
   "outputs": [],
   "source": [
    "def spinlock(stepsize = 394):\n",
    "    curr = 0\n",
    "    len = 1\n",
    "    buffer = [0]\n",
    "    for i in range(1,2017+1):\n",
    "        curr = (curr + stepsize) % len\n",
    "        buffer.insert(curr+1, i)\n",
    "        len += 1\n",
    "        curr += 1\n",
    "    return buffer[buffer.index(2017)+1]"
   ]
  },
  {
   "cell_type": "code",
   "execution_count": 239,
   "metadata": {},
   "outputs": [
    {
     "data": {
      "text/plain": [
       "926"
      ]
     },
     "execution_count": 239,
     "metadata": {},
     "output_type": "execute_result"
    }
   ],
   "source": [
    "spinlock()"
   ]
  },
  {
   "cell_type": "code",
   "execution_count": 240,
   "metadata": {
    "collapsed": true
   },
   "outputs": [],
   "source": [
    "def spinlock0(stepsize = 394):\n",
    "    curr = 0\n",
    "    len = 1\n",
    "    after = 0\n",
    "    buffer = [0]\n",
    "    for i in range(1,50000000+1):\n",
    "        curr = (curr + stepsize) % len\n",
    "#        buffer.insert(curr+1, i)\n",
    "        if curr == 0:\n",
    "            after = i\n",
    "#        print(after, buffer)\n",
    "        len += 1\n",
    "        curr += 1\n",
    "    return after"
   ]
  },
  {
   "cell_type": "code",
   "execution_count": 241,
   "metadata": {},
   "outputs": [
    {
     "data": {
      "text/plain": [
       "10150888"
      ]
     },
     "execution_count": 241,
     "metadata": {},
     "output_type": "execute_result"
    }
   ],
   "source": [
    "spinlock0()"
   ]
  },
  {
   "cell_type": "markdown",
   "metadata": {},
   "source": [
    "# Day 18"
   ]
  },
  {
   "cell_type": "code",
   "execution_count": 242,
   "metadata": {
    "collapsed": true
   },
   "outputs": [],
   "source": [
    "inputstring = input_string(18)"
   ]
  },
  {
   "cell_type": "code",
   "execution_count": 350,
   "metadata": {
    "collapsed": true
   },
   "outputs": [],
   "source": [
    "from collections import defaultdict\n",
    "\n",
    "def sndchip(st, parallel = False):\n",
    "    regs = defaultdict(int)\n",
    "    queue = [[],[]]\n",
    "    prog = []\n",
    "    for l in st.splitlines():\n",
    "        par = l.split(' ')\n",
    "        prog.append((par[0],par[1:]))\n",
    "\n",
    "    def val(cpu,s):\n",
    "        if s in 'abcdefghijklmnopqrstuvwxyz':\n",
    "            return regs[(cpu,s)]\n",
    "        else:\n",
    "            return int(s)\n",
    "    pc = [0, 0]\n",
    "    regs[(1,'p')] = 1\n",
    "    waiting = [False, False]\n",
    "    freq = 0\n",
    "    cpu = 0\n",
    "    sent = 0\n",
    "    while True:\n",
    "        ins, data = prog[pc[cpu]]\n",
    "        jmp = 1\n",
    "        if ins == 'snd':\n",
    "            if cpu == 1:\n",
    "                sent += 1\n",
    "            freq = val(cpu,data[0])\n",
    "            queue[1-cpu].append(val(cpu,data[0]))\n",
    "            waiting[1-cpu] = False\n",
    "        elif ins == 'set':\n",
    "            regs[(cpu,data[0])] = val(cpu,data[1])\n",
    "        elif ins == 'add':\n",
    "            regs[(cpu,data[0])] += val(cpu,data[1])\n",
    "        elif ins == 'mul':\n",
    "            regs[(cpu,data[0])] *= val(cpu,data[1])\n",
    "        elif ins == 'mod':\n",
    "            regs[(cpu,data[0])] %= val(cpu,data[1])\n",
    "        elif ins == 'rcv':\n",
    "            if not parallel:\n",
    "                return freq\n",
    "            if queue[cpu]:\n",
    "                regs[(cpu,data[0])] = queue[cpu].pop(0)\n",
    "            else:\n",
    "                waiting[cpu] = True\n",
    "                cpu = 1-cpu\n",
    "                if waiting[cpu]:\n",
    "                    return sent\n",
    "                jmp = 0\n",
    "        elif ins == 'jgz':\n",
    "            if val(cpu,data[0]) > 0:\n",
    "                jmp = val(cpu,data[1])\n",
    "        pc[cpu] += jmp"
   ]
  },
  {
   "cell_type": "code",
   "execution_count": 351,
   "metadata": {
    "scrolled": true
   },
   "outputs": [
    {
     "data": {
      "text/plain": [
       "8001"
      ]
     },
     "execution_count": 351,
     "metadata": {},
     "output_type": "execute_result"
    }
   ],
   "source": [
    "sndchip(inputstring, True)"
   ]
  },
  {
   "cell_type": "markdown",
   "metadata": {},
   "source": [
    "# Day 19"
   ]
  },
  {
   "cell_type": "code",
   "execution_count": 3,
   "metadata": {
    "collapsed": true
   },
   "outputs": [],
   "source": [
    "inputstring = input_string(19)"
   ]
  },
  {
   "cell_type": "code",
   "execution_count": 48,
   "metadata": {
    "collapsed": true
   },
   "outputs": [],
   "source": [
    "def turnright(dx, dy):\n",
    "    return (-dy, dx)\n",
    "\n",
    "def turnleft(dx, dy):\n",
    "    return (dy, -dx)\n",
    "\n",
    "def mazeroute(inp):\n",
    "    maze = inp.splitlines()\n",
    "    y = 0\n",
    "    x = maze[0].index('|')\n",
    "    dx = 0\n",
    "    dy = 1\n",
    "    found = []\n",
    "    steps = 0\n",
    "    while True:\n",
    "        steps += 1\n",
    "        px, py = x, y\n",
    "        x += dx\n",
    "        y += dy\n",
    "        och = maze[py][px]\n",
    "        ch = maze[y][x]\n",
    "        if ch in 'ABCDEFGHIJKLMNOPQRSTUVWXYZ':\n",
    "            found.append(ch)\n",
    "        elif ch == '+':\n",
    "            ndx, ndy = turnright(dx, dy)\n",
    "            ch = maze[y+ndy][x+ndx]\n",
    "            if ch == ' ' or ch == och or ch == '+':\n",
    "                ndx, ndy = turnleft(dx, dy)\n",
    "            dx, dy = ndx, ndy\n",
    "        elif ch == ' ':\n",
    "            print(ch, found)\n",
    "            return ''.join(found), steps"
   ]
  },
  {
   "cell_type": "code",
   "execution_count": 49,
   "metadata": {},
   "outputs": [
    {
     "name": "stdout",
     "output_type": "stream",
     "text": [
      "  ['B', 'P', 'D', 'K', 'C', 'Z', 'W', 'H', 'G', 'T']\n"
     ]
    },
    {
     "data": {
      "text/plain": [
       "('BPDKCZWHGT', 17728)"
      ]
     },
     "execution_count": 49,
     "metadata": {},
     "output_type": "execute_result"
    }
   ],
   "source": [
    "mazeroute(inputstring)"
   ]
  },
  {
   "cell_type": "code",
   "execution_count": 50,
   "metadata": {
    "collapsed": true
   },
   "outputs": [],
   "source": [
    "sample=\"\"\"     |          \n",
    "     |  +--+    \n",
    "     A  |  C    \n",
    " F---|--|-E---+ \n",
    "     |  |  |  D \n",
    "     +B-+  +--+ \n",
    "                  \"\"\""
   ]
  },
  {
   "cell_type": "markdown",
   "metadata": {
    "collapsed": true
   },
   "source": [
    "# Day 20"
   ]
  },
  {
   "cell_type": "code",
   "execution_count": 2,
   "metadata": {
    "collapsed": true
   },
   "outputs": [],
   "source": [
    "inputstring = input_string(20)"
   ]
  },
  {
   "cell_type": "code",
   "execution_count": 72,
   "metadata": {
    "collapsed": true
   },
   "outputs": [],
   "source": [
    "import re\n",
    "\n",
    "def particles(inp):\n",
    "    state = []\n",
    "    i = 0\n",
    "    for l in inp.splitlines():\n",
    "        nums = [int(z) for z in re.findall(r'[+-]?\\d+',l)]\n",
    "        state.append((np.array(nums[:3]),np.array(nums[3:6]),np.array(nums[6:])))\n",
    "        i += 1\n",
    "    print(min(enumerate(state), key = lambda x: sum(x[1][2]*x[1][2])))\n",
    "    for _ in range(1000):\n",
    "        collide = {}\n",
    "        for i in range(len(state)):\n",
    "            p, v, a = state[i]\n",
    "            v += a\n",
    "            p += v\n",
    "            w = tuple(p)\n",
    "            if w in collide:\n",
    "                collide[w].append(i)\n",
    "            else:\n",
    "                collide[w] = [i]\n",
    "            state[i] = (p,v,a)\n",
    "        rem = sorted(list(set(i for c in collide.values() for i in c  if len(c) > 1)), reverse=True)\n",
    "        for i in rem:\n",
    "            state.pop(i)\n",
    "    print(len(state))"
   ]
  },
  {
   "cell_type": "code",
   "execution_count": 73,
   "metadata": {},
   "outputs": [
    {
     "name": "stdout",
     "output_type": "stream",
     "text": [
      "(170, (array([430, 891, 209]), array([  3, -10,  -8]), array([-1, -1,  0])))\n",
      "571\n"
     ]
    }
   ],
   "source": [
    "particles(inputstring)"
   ]
  },
  {
   "cell_type": "markdown",
   "metadata": {},
   "source": [
    "# Day 21"
   ]
  },
  {
   "cell_type": "code",
   "execution_count": 498,
   "metadata": {
    "collapsed": true
   },
   "outputs": [],
   "source": [
    "inp = input_string(21).splitlines()"
   ]
  },
  {
   "cell_type": "code",
   "execution_count": 499,
   "metadata": {},
   "outputs": [
    {
     "name": "stdout",
     "output_type": "stream",
     "text": [
      "2810258\n"
     ]
    }
   ],
   "source": [
    "def readrules(s):\n",
    "    rulebook = {}\n",
    "    for l in s:\n",
    "        a, b = l.split(' => ')\n",
    "        for x in derange(a):\n",
    "            rulebook[x] = b\n",
    "    return rulebook\n",
    "\n",
    "def derange(s):\n",
    "    lines = list(map(tuple,s.split('/')))\n",
    "    der = [lines]\n",
    "    for mat in der:\n",
    "        m1 = list(zip(*mat))\n",
    "        if m1 not in der:\n",
    "            der.append(m1)\n",
    "        m2 = list(reversed(mat))\n",
    "        if m2 not in der:\n",
    "            der.append(m2)\n",
    "    return ['/'.join(map(lambda t: ''.join(t),d)) for d in der]\n",
    "\n",
    "def groupn(i, n):\n",
    "    j = 0\n",
    "    while j < len(i):\n",
    "        yield(i[j:j+n])\n",
    "        j += n\n",
    "\n",
    "def gprint(g):\n",
    "    for l in g.split('/'):\n",
    "        print(l)\n",
    "\n",
    "def iterate(rules, start = '.#./..#/###'):\n",
    "    grid = start.split('/')\n",
    "    n = len(grid)\n",
    "    tmp = []\n",
    "    if n % 2 == 0:\n",
    "        for s in groupn(grid,2):\n",
    "            repl = [rules['/'.join(thr)] for thr in zip(*(groupn(l,2) for l in s))]\n",
    "            tmp.append('/'.join((''.join(z) for z in zip(*[l.split('/') for l in repl]))))\n",
    "    elif n % 3 == 0:\n",
    "        for s in groupn(grid,3):\n",
    "            repl = [rules['/'.join(thr)] for thr in zip(*(groupn(l,3) for l in s))]\n",
    "            tmp.append('/'.join((''.join(z) for z in zip(*[l.split('/') for l in repl]))))\n",
    "    return '/'.join(tmp)\n",
    "\n",
    "rulebook = readrules(inp)\n",
    "o = iterate(rulebook)\n",
    "for _ in range(18-1):\n",
    "    o = iterate(rulebook,o)\n",
    "print(o.count('#'))"
   ]
  },
  {
   "cell_type": "markdown",
   "metadata": {},
   "source": [
    "# Day 22"
   ]
  },
  {
   "cell_type": "code",
   "execution_count": 305,
   "metadata": {
    "collapsed": true
   },
   "outputs": [],
   "source": [
    "inp = \"\"\".#...#.#.##..##....##.#.#\n",
    "###.###..##...##.##....##\n",
    "....#.###..#...#####..#.#\n",
    ".##.######..###.##..#...#\n",
    "#..#..#..##..###...#..###\n",
    "..####...#.##.#.#.##.####\n",
    "#......#..####..###..###.\n",
    "#####.##.#.#.##.###.#.#.#\n",
    ".#.###....###....##....##\n",
    ".......########.#.#...#..\n",
    "...###.####.##..###.##..#\n",
    "#.#.###.####.###.###.###.\n",
    ".######...###.....#......\n",
    "....##.###..#.#.###...##.\n",
    "#.###..###.#.#.##.#.##.##\n",
    "#.#.#..###...###.###.....\n",
    "##..##.##...##.##..##.#.#\n",
    ".....##......##..#.##...#\n",
    "..##.#.###.#...#####.#.##\n",
    "....##..#.#.#.#..###.#..#\n",
    "###..##.##....##.#....##.\n",
    "#..####...####.#.##..#.##\n",
    "####.###...####..##.#.#.#\n",
    "#.#.#.###.....###.##.###.\n",
    ".#...##.#.##..###.#.###..\"\"\"\n",
    "\n",
    "sample = \"\"\"..#\n",
    "#..\n",
    "...\"\"\""
   ]
  },
  {
   "cell_type": "code",
   "execution_count": 376,
   "metadata": {},
   "outputs": [],
   "source": [
    "from collections import defaultdict\n",
    "\n",
    "def turnright(dx, dy):\n",
    "    return (-dy, dx)\n",
    "\n",
    "def turnleft(dx, dy):\n",
    "    return (dy, -dx)\n",
    "\n",
    "def drawmap(grid):\n",
    "    xvals = []\n",
    "    yvals = []\n",
    "    for y,x in grid.keys():\n",
    "        xvals.append(x)\n",
    "        yvals.append(y)\n",
    "    xmin, xmax = min(xvals), max(xvals)\n",
    "    ymin, ymax = min(yvals), max(yvals)\n",
    "    for y in range(ymin,ymax+1):\n",
    "        line = []\n",
    "        for x in range(xmin, xmax+1):\n",
    "            if grid.get((y,x), False):\n",
    "                line.append('#')\n",
    "            else:\n",
    "                line.append('.')\n",
    "        print(''.join(line))\n",
    "\n",
    "def infect(init, n = 70):\n",
    "    grid = {}\n",
    "    txtgrid = init.splitlines()\n",
    "    for y in range(len(txtgrid)):\n",
    "        for x in range(len(txtgrid[y])):\n",
    "            if txtgrid[y][x] == '#':\n",
    "                grid[(y,x)] = True\n",
    "    dim = len(txtgrid) // 2\n",
    "    x, y = dim, dim\n",
    "    dx, dy = 0, -1\n",
    "    burst = 0\n",
    "    for _ in range(n):\n",
    "        if grid.get((y,x), False):\n",
    "            dx, dy = turnright(dx, dy)\n",
    "            grid[(y,x)] = False\n",
    "        else:\n",
    "            dx, dy = turnleft(dx, dy)\n",
    "            burst += 1\n",
    "            grid[(y,x)] = True\n",
    "        x += dx\n",
    "        y += dy\n",
    "\n",
    "    dx, dy = 0, -1\n",
    "    return burst\n",
    "\n",
    "def infect2(init, n = 70):\n",
    "    grid = {}\n",
    "    txtgrid = init.splitlines()\n",
    "    for y in range(len(txtgrid)):\n",
    "        for x in range(len(txtgrid[y])):\n",
    "            if txtgrid[y][x] == '#':\n",
    "                grid[(y,x)] = '#'\n",
    "    dim = len(txtgrid) // 2\n",
    "    x, y = dim, dim\n",
    "    dx, dy = 0, -1\n",
    "    burst = 0\n",
    "    for _ in range(n):\n",
    "        cellstate = grid.get((y,x), '.')\n",
    "        if cellstate == '.':\n",
    "            dx, dy = turnleft(dx, dy)\n",
    "            grid[(y,x)] = 'W'\n",
    "        elif cellstate == 'W':\n",
    "            grid[(y,x)] = '#'\n",
    "            burst += 1\n",
    "        elif cellstate == '#':\n",
    "            dx, dy = turnright(dx, dy)\n",
    "            grid[(y,x)] = 'F'\n",
    "        elif cellstate == 'F':\n",
    "            dx, dy = -dx, -dy\n",
    "            grid[(y,x)] = '.'\n",
    "        x += dx\n",
    "        y += dy\n",
    "\n",
    "    dx, dy = 0, -1\n",
    "    return burst"
   ]
  },
  {
   "cell_type": "code",
   "execution_count": 358,
   "metadata": {},
   "outputs": [
    {
     "name": "stdout",
     "output_type": "stream",
     "text": [
      "...##..\n",
      "..#..#.\n",
      ".#....#\n",
      "#.#...#\n",
      "#.#..#.\n",
      "...##..\n"
     ]
    }
   ],
   "source": [
    "drawmap(infect(sample,70))"
   ]
  },
  {
   "cell_type": "code",
   "execution_count": 374,
   "metadata": {},
   "outputs": [
    {
     "name": "stdout",
     "output_type": "stream",
     "text": [
      "CPU times: user 6.92 s, sys: 23.6 ms, total: 6.95 s\n",
      "Wall time: 6.95 s\n"
     ]
    },
    {
     "data": {
      "text/plain": [
       "2512079"
      ]
     },
     "execution_count": 374,
     "metadata": {},
     "output_type": "execute_result"
    }
   ],
   "source": [
    "%time infect2(inp,10000000)"
   ]
  },
  {
   "cell_type": "markdown",
   "metadata": {},
   "source": [
    "# Day 23"
   ]
  },
  {
   "cell_type": "code",
   "execution_count": 492,
   "metadata": {
    "collapsed": true
   },
   "outputs": [],
   "source": [
    "prog = \"\"\"set b 99\n",
    "set c b\n",
    "jnz a 2\n",
    "jnz 1 5\n",
    "mul b 100\n",
    "sub b -100000\n",
    "set c b\n",
    "sub c -17000\n",
    "set f 1\n",
    "set d 2\n",
    "set e 2\n",
    "set g d\n",
    "mul g e\n",
    "sub g b\n",
    "jnz g 2\n",
    "set f 0\n",
    "sub e -1\n",
    "set g e\n",
    "sub g b\n",
    "jnz g -8\n",
    "sub d -1\n",
    "set g d\n",
    "sub g b\n",
    "jnz g -13\n",
    "jnz f 2\n",
    "sub h -1\n",
    "set g b\n",
    "sub g c\n",
    "jnz g 2\n",
    "jnz 1 3\n",
    "sub b -17\n",
    "jnz 1 -23\"\"\""
   ]
  },
  {
   "cell_type": "code",
   "execution_count": 495,
   "metadata": {
    "collapsed": true
   },
   "outputs": [],
   "source": [
    "from collections import defaultdict\n",
    "\n",
    "def printchip(st, debug = False):\n",
    "    regs = defaultdict(int)\n",
    "    prog = []\n",
    "    for l in st.splitlines():\n",
    "        par = l.split(' ')\n",
    "        prog.append((par[0],par[1:]))\n",
    "\n",
    "    def val(s):\n",
    "        if s in 'abcdefghijklmnopqrstuvwxyz':\n",
    "            return regs[s]\n",
    "        else:\n",
    "            return int(s)\n",
    "    pc = 0\n",
    "    if debug:\n",
    "        regs['a'] = 1\n",
    "    mulcount = 0\n",
    "    while True:\n",
    "        if pc < 0 or pc >= len(prog):\n",
    "            return regs['h'] if debug else mulcount\n",
    "        ins, data = prog[pc]\n",
    "        jmp = 1\n",
    "        if ins == 'set':\n",
    "            regs[data[0]] = val(data[1])\n",
    "        elif ins == 'sub':\n",
    "            regs[data[0]] -= val(data[1])\n",
    "        elif ins == 'mod':\n",
    "            regs[data[0]] %= val(data[1])\n",
    "        elif ins == 'mul':\n",
    "            mulcount += 1\n",
    "            regs[data[0]] *= val(data[1])\n",
    "        elif ins == 'jnz':\n",
    "            if val(data[0]) != 0:\n",
    "                jmp = val(data[1])\n",
    "        pc += jmp"
   ]
  },
  {
   "cell_type": "code",
   "execution_count": 496,
   "metadata": {},
   "outputs": [
    {
     "name": "stdout",
     "output_type": "stream",
     "text": [
      "CPU times: user 66.6 ms, sys: 2.71 ms, total: 69.4 ms\n",
      "Wall time: 67 ms\n"
     ]
    },
    {
     "data": {
      "text/plain": [
       "9409"
      ]
     },
     "execution_count": 496,
     "metadata": {},
     "output_type": "execute_result"
    }
   ],
   "source": [
    "%time printchip(prog, False)"
   ]
  },
  {
   "cell_type": "code",
   "execution_count": 407,
   "metadata": {
    "collapsed": true
   },
   "outputs": [],
   "source": [
    "def isprime(n):\n",
    "    f = 2\n",
    "    while f*f < n:\n",
    "        if n % f == 0:\n",
    "            return False\n",
    "        f += 1\n",
    "    return True\n",
    "\n",
    "def equivprog():\n",
    "    h = 0\n",
    "    b = 99*100+100000\n",
    "    for _ in range(1001):\n",
    "        if not isprime(b):\n",
    "            h += 1\n",
    "        b += 17\n",
    "    print(h)"
   ]
  },
  {
   "cell_type": "code",
   "execution_count": 491,
   "metadata": {},
   "outputs": [
    {
     "name": "stdout",
     "output_type": "stream",
     "text": [
      "913\n",
      "CPU times: user 6.25 ms, sys: 335 µs, total: 6.58 ms\n",
      "Wall time: 6.37 ms\n"
     ]
    }
   ],
   "source": [
    "%time equivprog()"
   ]
  },
  {
   "cell_type": "markdown",
   "metadata": {},
   "source": [
    "# Day 24"
   ]
  },
  {
   "cell_type": "code",
   "execution_count": 2,
   "metadata": {
    "collapsed": true
   },
   "outputs": [],
   "source": [
    "inp = \"\"\"32/31\n",
    "2/2\n",
    "0/43\n",
    "45/15\n",
    "33/24\n",
    "20/20\n",
    "14/42\n",
    "2/35\n",
    "50/27\n",
    "2/17\n",
    "5/45\n",
    "3/14\n",
    "26/1\n",
    "33/38\n",
    "29/6\n",
    "50/32\n",
    "9/48\n",
    "36/34\n",
    "33/50\n",
    "37/35\n",
    "12/12\n",
    "26/13\n",
    "19/4\n",
    "5/5\n",
    "14/46\n",
    "17/29\n",
    "45/43\n",
    "5/0\n",
    "18/18\n",
    "41/22\n",
    "50/3\n",
    "4/4\n",
    "17/1\n",
    "40/7\n",
    "19/0\n",
    "33/7\n",
    "22/48\n",
    "9/14\n",
    "50/43\n",
    "26/29\n",
    "19/33\n",
    "46/31\n",
    "3/16\n",
    "29/46\n",
    "16/0\n",
    "34/17\n",
    "31/7\n",
    "5/27\n",
    "7/4\n",
    "49/49\n",
    "14/21\n",
    "50/9\n",
    "14/44\n",
    "29/29\n",
    "13/38\n",
    "31/11\"\"\"\n",
    "\n",
    "sample = \"\"\"0/2\n",
    "2/2\n",
    "2/3\n",
    "3/4\n",
    "3/5\n",
    "0/1\n",
    "10/1\n",
    "9/10\"\"\""
   ]
  },
  {
   "cell_type": "code",
   "execution_count": 3,
   "metadata": {},
   "outputs": [],
   "source": [
    "from collections import defaultdict\n",
    "\n",
    "def bridges(st):\n",
    "    bestpath = []\n",
    "    bestw = 0\n",
    "    bestcount = 0\n",
    "    def pathextend(l, w, count):\n",
    "        nonlocal bestcount, bestw, bestpath\n",
    "        end = l[-1]\n",
    "        edge = []\n",
    "        x = end\n",
    "        for y in l:\n",
    "            if x == end:\n",
    "                edge.append(y)\n",
    "            elif y == end:\n",
    "                edge.append(x)\n",
    "            x = y\n",
    "        nbrs = set(clump[end])-set(edge)\n",
    "        if not nbrs:\n",
    "            if count > bestcount or (count == bestcount and w > bestw):\n",
    "                bestcount = count\n",
    "                bestpath = l\n",
    "                bestw = w\n",
    "                print(bestw, bestpath)\n",
    "        for y in nbrs:\n",
    "            pathextend(l+[y],w+end+y, count+1)\n",
    "    comp = []\n",
    "    clump = defaultdict(list)\n",
    "    print(len(st.splitlines()))\n",
    "    for l in st.splitlines():\n",
    "        a, b = tuple(map(int,l.split('/')))\n",
    "        comp.append((a,b))\n",
    "    for a,b in comp:\n",
    "        clump[a].append(b)\n",
    "        clump[b].append(a)\n",
    "    print(len(clump.keys()), 'nodes')\n",
    "    pathextend([0], 0, 1)\n",
    "    print(bestpath)"
   ]
  },
  {
   "cell_type": "code",
   "execution_count": 5,
   "metadata": {},
   "outputs": [
    {
     "name": "stdout",
     "output_type": "stream",
     "text": [
      "56\n",
      "43 nodes\n",
      "275 [0, 16, 3, 50, 32, 31, 11]\n",
      "694 [0, 16, 3, 50, 32, 31, 46, 29, 17, 1, 26, 13, 38, 33, 24]\n",
      "1309 [0, 16, 3, 50, 32, 31, 46, 29, 17, 1, 26, 13, 38, 33, 50, 27, 5, 45, 43, 50, 9, 48, 22, 41]\n",
      "1319 [0, 16, 3, 50, 32, 31, 46, 29, 17, 1, 26, 13, 38, 33, 50, 27, 5, 5, 45, 43, 50, 9, 48, 22, 41]\n",
      "1443 [0, 16, 3, 50, 32, 31, 46, 29, 17, 1, 26, 13, 38, 33, 19, 4, 4, 7, 33, 50, 27, 5, 45, 43, 50, 9, 48, 22, 41]\n",
      "1453 [0, 16, 3, 50, 32, 31, 46, 29, 17, 1, 26, 13, 38, 33, 19, 4, 4, 7, 33, 50, 27, 5, 5, 45, 43, 50, 9, 48, 22, 41]\n",
      "1501 [0, 16, 3, 50, 32, 31, 46, 29, 29, 17, 1, 26, 13, 38, 33, 19, 4, 4, 7, 33, 50, 27, 5, 45, 43, 50, 9, 48, 22, 41]\n",
      "1511 [0, 16, 3, 50, 32, 31, 46, 29, 29, 17, 1, 26, 13, 38, 33, 19, 4, 4, 7, 33, 50, 27, 5, 5, 45, 43, 50, 9, 48, 22, 41]\n",
      "1471 [0, 16, 3, 50, 32, 31, 46, 14, 9, 50, 27, 5, 5, 45, 43, 50, 33, 19, 4, 4, 7, 33, 38, 13, 26, 29, 29, 17, 2, 2, 35, 37]\n",
      "[0, 16, 3, 50, 32, 31, 46, 14, 9, 50, 27, 5, 5, 45, 43, 50, 33, 19, 4, 4, 7, 33, 38, 13, 26, 29, 29, 17, 2, 2, 35, 37]\n"
     ]
    }
   ],
   "source": [
    "bridges(inp)"
   ]
  },
  {
   "cell_type": "markdown",
   "metadata": {},
   "source": [
    "# Day 25"
   ]
  },
  {
   "cell_type": "code",
   "execution_count": 6,
   "metadata": {
    "collapsed": true
   },
   "outputs": [],
   "source": [
    "inp=\"\"\"Begin in state A.\n",
    "Perform a diagnostic checksum after 12629077 steps.\n",
    "\n",
    "In state A:\n",
    "  If the current value is 0:\n",
    "    - Write the value 1.\n",
    "    - Move one slot to the right.\n",
    "    - Continue with state B.\n",
    "  If the current value is 1:\n",
    "    - Write the value 0.\n",
    "    - Move one slot to the left.\n",
    "    - Continue with state B.\n",
    "\n",
    "In state B:\n",
    "  If the current value is 0:\n",
    "    - Write the value 0.\n",
    "    - Move one slot to the right.\n",
    "    - Continue with state C.\n",
    "  If the current value is 1:\n",
    "    - Write the value 1.\n",
    "    - Move one slot to the left.\n",
    "    - Continue with state B.\n",
    "\n",
    "In state C:\n",
    "  If the current value is 0:\n",
    "    - Write the value 1.\n",
    "    - Move one slot to the right.\n",
    "    - Continue with state D.\n",
    "  If the current value is 1:\n",
    "    - Write the value 0.\n",
    "    - Move one slot to the left.\n",
    "    - Continue with state A.\n",
    "\n",
    "In state D:\n",
    "  If the current value is 0:\n",
    "    - Write the value 1.\n",
    "    - Move one slot to the left.\n",
    "    - Continue with state E.\n",
    "  If the current value is 1:\n",
    "    - Write the value 1.\n",
    "    - Move one slot to the left.\n",
    "    - Continue with state F.\n",
    "\n",
    "In state E:\n",
    "  If the current value is 0:\n",
    "    - Write the value 1.\n",
    "    - Move one slot to the left.\n",
    "    - Continue with state A.\n",
    "  If the current value is 1:\n",
    "    - Write the value 0.\n",
    "    - Move one slot to the left.\n",
    "    - Continue with state D.\n",
    "\n",
    "In state F:\n",
    "  If the current value is 0:\n",
    "    - Write the value 1.\n",
    "    - Move one slot to the right.\n",
    "    - Continue with state A.\n",
    "  If the current value is 1:\n",
    "    - Write the value 1.\n",
    "    - Move one slot to the left.\n",
    "    - Continue with state E.\"\"\""
   ]
  },
  {
   "cell_type": "code",
   "execution_count": 69,
   "metadata": {},
   "outputs": [
    {
     "name": "stdout",
     "output_type": "stream",
     "text": [
      "3746\n"
     ]
    },
    {
     "data": {
      "text/plain": [
       "3745"
      ]
     },
     "execution_count": 69,
     "metadata": {},
     "output_type": "execute_result"
    }
   ],
   "source": [
    "from collections import defaultdict\n",
    "import re, itertools\n",
    "# hokiness! learn to write a quick parser\n",
    "machine = { ('A', 0): (1, +1, 'B'),\n",
    "            ('A', 1): (0, -1, 'B'),\n",
    "            ('B', 0): (0, +1, 'C'),\n",
    "            ('B', 1): (1, -1, 'B'),\n",
    "            ('C', 0): (1, +1, 'D'),\n",
    "            ('C', 1): (0, -1, 'A'),\n",
    "            ('D', 0): (1, -1, 'E'),\n",
    "            ('D', 1): (1, -1, 'F'),\n",
    "            ('E', 0): (1, -1, 'A'),\n",
    "            ('E', 1): (0, -1, 'D'),\n",
    "            ('F', 0): (1, +1, 'A'),\n",
    "            ('F', 1): (1, -1, 'E') }\n",
    "import re\n",
    "machine = {}\n",
    "\n",
    "way = { 'left': -1, 'right': +1}\n",
    "n = int(re.findall(r'after (\\d+)', inp)[0])\n",
    "for k, v in zip(itertools.product('ABCDEF',[0,1]),\n",
    "    zip(map(int,re.findall(r'value ([0|1])',inp)), \n",
    "    (map(lambda x: way[x],re.findall(r'left|right', inp))), \n",
    "    re.findall(r'state (.)\\.', inp)[1:])):\n",
    "    machine[k] = v\n",
    "\n",
    "def turing(n = 12629077):\n",
    "    cursor = 0\n",
    "    state = 'A'\n",
    "    tape = defaultdict(int)\n",
    "    for _ in range(n):\n",
    "        w, m, s = machine[(state, tape[cursor])]\n",
    "        tape[cursor] = w\n",
    "        cursor += m\n",
    "        state = s\n",
    "    print(len(tape.keys()))\n",
    "    return sum(tape.values())\n",
    "\n",
    "turing(n)"
   ]
  },
  {
   "cell_type": "code",
   "execution_count": 68,
   "metadata": {},
   "outputs": [
    {
     "name": "stdout",
     "output_type": "stream",
     "text": [
      "3746\n",
      "CPU times: user 4.03 s, sys: 12.4 ms, total: 4.04 s\n",
      "Wall time: 4.04 s\n"
     ]
    },
    {
     "data": {
      "text/plain": [
       "3745"
      ]
     },
     "execution_count": 68,
     "metadata": {},
     "output_type": "execute_result"
    }
   ],
   "source": [
    "%time turing()"
   ]
  },
  {
   "cell_type": "code",
   "execution_count": 64,
   "metadata": {},
   "outputs": [],
   "source": [
    "import re\n",
    "\n",
    "way = { 'left': -1, 'right': +1}\n",
    "n = int(re.findall(r'after (\\d+)', inp)[0])\n",
    "for k, v in zip(itertools.product('ABCDEF',[0,1]),\n",
    "    zip(map(int,re.findall(r'value ([0|1])',inp)), \n",
    "    (map(lambda x: way[x],re.findall(r'left|right', inp))), \n",
    "    re.findall(r'state (.)\\.', inp)[1:])):\n",
    "    machine[k] = v"
   ]
  },
  {
   "cell_type": "code",
   "execution_count": 66,
   "metadata": {},
   "outputs": [
    {
     "data": {
      "text/plain": [
       "{('A', 0): (1, 1, 'B'),\n",
       " ('A', 1): (0, -1, 'B'),\n",
       " ('B', 0): (0, 1, 'C'),\n",
       " ('B', 1): (1, -1, 'B'),\n",
       " ('C', 0): (1, 1, 'D'),\n",
       " ('C', 1): (0, -1, 'A'),\n",
       " ('D', 0): (1, -1, 'E'),\n",
       " ('D', 1): (1, -1, 'F'),\n",
       " ('E', 0): (1, -1, 'A'),\n",
       " ('E', 1): (0, -1, 'D'),\n",
       " ('F', 0): (1, 1, 'A'),\n",
       " ('F', 1): (1, -1, 'E')}"
      ]
     },
     "execution_count": 66,
     "metadata": {},
     "output_type": "execute_result"
    }
   ],
   "source": [
    "machine"
   ]
  },
  {
   "cell_type": "code",
   "execution_count": 40,
   "metadata": {},
   "outputs": [
    {
     "data": {
      "text/plain": [
       "['1', '0', '0', '1', '1', '0', '1', '1', '1', '0', '1', '1']"
      ]
     },
     "execution_count": 40,
     "metadata": {},
     "output_type": "execute_result"
    }
   ],
   "source": [
    "re.findall(r'value ([0|1])',inp)"
   ]
  },
  {
   "cell_type": "code",
   "execution_count": 59,
   "metadata": {},
   "outputs": [
    {
     "data": {
      "text/plain": [
       "<itertools.product at 0x10d36dcf0>"
      ]
     },
     "execution_count": 59,
     "metadata": {},
     "output_type": "execute_result"
    }
   ],
   "source": [
    "itertools.product('abcdef',[0,1])"
   ]
  },
  {
   "cell_type": "code",
   "execution_count": 60,
   "metadata": {},
   "outputs": [
    {
     "data": {
      "text/plain": [
       "[('a', 0),\n",
       " ('a', 1),\n",
       " ('b', 0),\n",
       " ('b', 1),\n",
       " ('c', 0),\n",
       " ('c', 1),\n",
       " ('d', 0),\n",
       " ('d', 1),\n",
       " ('e', 0),\n",
       " ('e', 1),\n",
       " ('f', 0),\n",
       " ('f', 1)]"
      ]
     },
     "execution_count": 60,
     "metadata": {},
     "output_type": "execute_result"
    }
   ],
   "source": [
    "list(_)"
   ]
  },
  {
   "cell_type": "code",
   "execution_count": null,
   "metadata": {
    "collapsed": true
   },
   "outputs": [],
   "source": []
  },
  {
   "cell_type": "code",
   "execution_count": null,
   "metadata": {
    "collapsed": true
   },
   "outputs": [],
   "source": []
  },
  {
   "cell_type": "code",
   "execution_count": null,
   "metadata": {
    "collapsed": true
   },
   "outputs": [],
   "source": []
  },
  {
   "cell_type": "code",
   "execution_count": 57,
   "metadata": {
    "collapsed": true
   },
   "outputs": [],
   "source": [
    "import itertools"
   ]
  },
  {
   "cell_type": "markdown",
   "metadata": {
    "collapsed": true
   },
   "source": [
    "# scribble-scrabble"
   ]
  },
  {
   "cell_type": "code",
   "execution_count": 111,
   "metadata": {
    "collapsed": true
   },
   "outputs": [],
   "source": [
    "p = 'benlihakpcmgfdjo'\n",
    "q = 'mpfjkbiohaendgcl'"
   ]
  },
  {
   "cell_type": "code",
   "execution_count": 96,
   "metadata": {
    "collapsed": true
   },
   "outputs": [],
   "source": [
    "def permprod(p1, p2):\n",
    "    s = 'abcdefghijklmnop'\n",
    "    prod = [p1[ord(p2[i])-ord('a')] for i in range(len(s))]\n",
    "    return ''.join(prod)\n",
    "\n",
    "def bigpermpow(p, n):\n",
    "    accum = 'abcdefghijklmnop'\n",
    "    pp = p\n",
    "    while n:\n",
    "        if n & 1:\n",
    "            accum = permprod(pp, accum)\n",
    "        pp = permprod(pp,pp)\n",
    "        n //= 2\n",
    "    return accum"
   ]
  },
  {
   "cell_type": "code",
   "execution_count": 127,
   "metadata": {
    "collapsed": true
   },
   "outputs": [],
   "source": [
    "def naivedance(n):\n",
    "    x = bigpermpow(p, n)\n",
    "    y = bigpermpow(q, n)\n",
    "    return ''.join([y[ord(c)-ord('a')] for c in x])"
   ]
  },
  {
   "cell_type": "code",
   "execution_count": 130,
   "metadata": {},
   "outputs": [
    {
     "name": "stdout",
     "output_type": "stream",
     "text": [
      "480 µs ± 24.8 µs per loop (mean ± std. dev. of 7 runs, 1000 loops each)\n"
     ]
    }
   ],
   "source": [
    "%timeit naivedance(1000000000-7)"
   ]
  },
  {
   "cell_type": "code",
   "execution_count": 70,
   "metadata": {},
   "outputs": [
    {
     "data": {
      "text/plain": [
       "'eidgpkbmonfahlcj'"
      ]
     },
     "execution_count": 70,
     "metadata": {},
     "output_type": "execute_result"
    }
   ],
   "source": [
    "dance(inputstring,'benlihakpcmgfdjo')"
   ]
  },
  {
   "cell_type": "code",
   "execution_count": 71,
   "metadata": {},
   "outputs": [
    {
     "data": {
      "text/plain": [
       "'iplaomefjdhbkgnc'"
      ]
     },
     "execution_count": 71,
     "metadata": {},
     "output_type": "execute_result"
    }
   ],
   "source": [
    "dance(inputstring,'eidgpkbmonfahlcj')"
   ]
  },
  {
   "cell_type": "code",
   "execution_count": 72,
   "metadata": {},
   "outputs": [
    {
     "data": {
      "text/plain": [
       "'pogbjfihclkemadn'"
      ]
     },
     "execution_count": 72,
     "metadata": {},
     "output_type": "execute_result"
    }
   ],
   "source": [
    "dance(inputstring,'iplaomefjdhbkgnc')"
   ]
  },
  {
   "cell_type": "code",
   "execution_count": 73,
   "metadata": {},
   "outputs": [
    {
     "data": {
      "text/plain": [
       "'ojaechpkngmifbld'"
      ]
     },
     "execution_count": 73,
     "metadata": {},
     "output_type": "execute_result"
    }
   ],
   "source": [
    "dance(inputstring,'pogbjfihclkemadn')"
   ]
  },
  {
   "cell_type": "code",
   "execution_count": 74,
   "metadata": {},
   "outputs": [
    {
     "data": {
      "text/plain": [
       "'jcbinkomdafphegl'"
      ]
     },
     "execution_count": 74,
     "metadata": {},
     "output_type": "execute_result"
    }
   ],
   "source": [
    "dance(inputstring,'ojaechpkngmifbld')"
   ]
  },
  {
   "cell_type": "code",
   "execution_count": 77,
   "metadata": {},
   "outputs": [
    {
     "data": {
      "text/plain": [
       "'iplaomefjdhbkgnc'"
      ]
     },
     "execution_count": 77,
     "metadata": {},
     "output_type": "execute_result"
    }
   ],
   "source": [
    "permprod(p,permprod(p,p))"
   ]
  },
  {
   "cell_type": "code",
   "execution_count": 95,
   "metadata": {},
   "outputs": [
    {
     "data": {
      "text/plain": [
       "'pogbjfihclkemadn'"
      ]
     },
     "execution_count": 95,
     "metadata": {},
     "output_type": "execute_result"
    }
   ],
   "source": [
    "bigpermpow(p,40)"
   ]
  },
  {
   "cell_type": "code",
   "execution_count": 94,
   "metadata": {},
   "outputs": [
    {
     "data": {
      "text/plain": [
       "40"
      ]
     },
     "execution_count": 94,
     "metadata": {},
     "output_type": "execute_result"
    }
   ],
   "source": [
    "1000000000 % 60"
   ]
  },
  {
   "cell_type": "code",
   "execution_count": null,
   "metadata": {
    "collapsed": true
   },
   "outputs": [],
   "source": []
  }
 ],
 "metadata": {
  "kernelspec": {
   "display_name": "Python 3",
   "language": "python",
   "name": "python3"
  }
 },
 "nbformat": 4,
 "nbformat_minor": 2
}
