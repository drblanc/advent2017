{
 "cells": [
  {
   "cell_type": "code",
   "execution_count": 122,
   "metadata": {
    "collapsed": true
   },
   "outputs": [],
   "source": [
    "def Input(day, year=2017):\n",
    "    \"Open this day's input file.\"\n",
    "    return open('advent{}.txt'.format(day))\n",
    "\n",
    "def Inputstr(day, year=2017): \n",
    "    \"The contents of this day's input file as a str.\"\n",
    "    return Input(day, year).read().rstrip('\\n')\n",
    "\n",
    "def Vector(line):\n",
    "    \"Parse a str into a tuple of atoms (numbers or str tokens).\"\n",
    "    return mapt(Atom, line.replace(',', ' ').split())\n",
    "\n",
    "def mapt(fn, *args): \n",
    "    \"Do a map, and make the results into a tuple.\"\n",
    "    return tuple(map(fn, *args))\n",
    "\n",
    "def Integers(text): \n",
    "    \"Return a tuple of all integers in a string.\"\n",
    "    return mapt(int, re.findall(r'-?\\b\\d+\\b', text))\n",
    "\n",
    "def Atom(token):\n",
    "    \"Parse a str token into a number, or leave it as a str.\"\n",
    "    try:\n",
    "        return int(token)\n",
    "    except ValueError:\n",
    "        try:\n",
    "            return float(token)\n",
    "        except ValueError:\n",
    "            return token\n",
    "        \n",
    "cat = ''.join"
   ]
  },
  {
   "cell_type": "code",
   "execution_count": 123,
   "metadata": {},
   "outputs": [],
   "source": [
    "dance = Vector(Inputstr(16))"
   ]
  },
  {
   "cell_type": "code",
   "execution_count": 170,
   "metadata": {},
   "outputs": [
    {
     "data": {
      "text/plain": [
       "'pogbjfihclkemadn'"
      ]
     },
     "execution_count": 170,
     "metadata": {},
     "output_type": "execute_result"
    }
   ],
   "source": [
    "from collections import deque\n",
    "import re\n",
    "\n",
    "dancers = 'abcdefghijklmnop'\n",
    "\n",
    "def perform(dance, dancers=dancers):\n",
    "    D = deque(dancers)\n",
    "    def swap(i, j): D[i], D[j] = D[j], D[i]\n",
    "    for move in dance:\n",
    "        op, arg = move[0], move[1:]\n",
    "        if   op == 's': D.rotate(int(arg))\n",
    "        elif op == 'x': swap(*Integers(arg))\n",
    "        elif op == 'p': swap(D.index(arg[0]), D.index(arg[2]))\n",
    "    return cat(D)\n",
    "\n",
    "# Different stuff starts here\n",
    "\n",
    "pos_perm = perform([m for m in dance if m[0]!='p'])\n",
    "abc_perm = perform([m for m in dance if m[0]=='p'])\n",
    "\n",
    "def permprod(p1, p2):\n",
    "    \"Compute the product of two permutations. Perms are represented by a permutation of 'abcdefghijklmnop'.\"\n",
    "    prod = [p1[ord(p2[i])-ord('a')] for i in range(len(p1))]\n",
    "    return ''.join(prod)\n",
    "\n",
    "def permpow(p, n):\n",
    "    \"Compute powers of a permutation, using binary decomposition of n.\"\n",
    "    accum = 'abcdefghijklmnop'\n",
    "    while n:\n",
    "        if n & 1:\n",
    "            accum = permprod(p, accum)\n",
    "        p = permprod(p, p)\n",
    "        n //= 2\n",
    "    return accum\n",
    "\n",
    "def naivedance(p, q, n):\n",
    "    x = permpow(p, n)\n",
    "    y = permpow(q, n)\n",
    "    return ''.join([y[ord(c)-ord('a')] for c in x])\n",
    "\n",
    "naivedance(pos_perm, abc_perm, 1000000000)"
   ]
  },
  {
   "cell_type": "code",
   "execution_count": 149,
   "metadata": {},
   "outputs": [],
   "source": [
    "def cycle(a,b):\n",
    "    return ['x%d/%d' % (x,x+1) for x in range(a,b)]\n",
    "\n",
    "def ccycle(c,d):\n",
    "    return ['p%s/%s' % (chr(x),chr(x+1)) for x in range(ord(c),ord(d))]"
   ]
  },
  {
   "cell_type": "code",
   "execution_count": 155,
   "metadata": {},
   "outputs": [
    {
     "data": {
      "text/plain": [
       "'x0/1,x1/2,x2/3,x3/4,x4/5,x5/6,x7/8,x8/9,x9/10,x10/11,x12/13,x13/14,x14/15,pa/b,pb/c,pc/d,pd/e,pe/f,pf/g,pg/h,ph/i,pi/j,pj/k,pk/l,pl/m,pn/o,po/p'"
      ]
     },
     "execution_count": 155,
     "metadata": {},
     "output_type": "execute_result"
    }
   ],
   "source": [
    "','.join(cycle(0,6)+cycle(7,11)+cycle(12,15)+ccycle('a','m')+ccycle('n','p'))"
   ]
  },
  {
   "cell_type": "code",
   "execution_count": 158,
   "metadata": {},
   "outputs": [],
   "source": [
    "slowdance = 'x0/1,x1/2,x2/3,x3/4,x4/5,x5/6,x7/8,x8/9,x9/10,x10/11,x12/13,x13/14,x14/15,pa/b,pb/c,pc/d,pd/e,pe/f,pf/g,pg/h,ph/i,pi/j,pj/k,pk/l,pl/m,pn/o,po/p'"
   ]
  },
  {
   "cell_type": "code",
   "execution_count": 187,
   "metadata": {},
   "outputs": [],
   "source": [
    "from math import gcd\n",
    "\n",
    "def lcm(x, *kwargs):\n",
    "    l = x\n",
    "    for z in kwargs:\n",
    "        l = l*z//gcd(l,z)\n",
    "    return l\n",
    "\n",
    "def partition(n, maxl=0):\n",
    "    if maxl == 0:\n",
    "        maxl = n\n",
    "    if n <= maxl:\n",
    "        yield ([n])\n",
    "    for j in range(min(maxl,n-1),0,-1):\n",
    "        for k in partition(n-j, j):\n",
    "            yield([j]+k)"
   ]
  },
  {
   "cell_type": "code",
   "execution_count": 195,
   "metadata": {},
   "outputs": [],
   "source": [
    "def longelement(n):\n",
    "    return max((a for a in partition(n)), key=lambda l: lcm(*l))\n",
    "\n",
    "def longpair(n):\n",
    "    return max((a+b for a,b in itertools.product(partition(n),partition(n))), key=lambda l: lcm(*l))"
   ]
  },
  {
   "cell_type": "code",
   "execution_count": 194,
   "metadata": {},
   "outputs": [
    {
     "data": {
      "text/plain": [
       "[1, 2, 6, 12, 30, 30, 84, 120, 210, 420, 420, 840, 1260, 2310, 4620, 5460]"
      ]
     },
     "execution_count": 194,
     "metadata": {},
     "output_type": "execute_result"
    }
   ],
   "source": [
    "[lcm(*longpair(x)) for x in range(1,17)]"
   ]
  },
  {
   "cell_type": "code",
   "execution_count": 197,
   "metadata": {},
   "outputs": [
    {
     "data": {
      "text/plain": [
       "[1, 2, 3, 4, 6, 6, 12, 15, 20, 30, 30, 60, 60, 84, 105, 140]"
      ]
     },
     "execution_count": 197,
     "metadata": {},
     "output_type": "execute_result"
    }
   ],
   "source": [
    "[lcm(*longelement(x)) for x in range(1,17)]"
   ]
  },
  {
   "cell_type": "code",
   "execution_count": 199,
   "metadata": {},
   "outputs": [
    {
     "data": {
      "text/plain": [
       "[9, 7, 5, 4, 1]"
      ]
     },
     "execution_count": 199,
     "metadata": {},
     "output_type": "execute_result"
    }
   ],
   "source": [
    "longelement(26)"
   ]
  },
  {
   "cell_type": "code",
   "execution_count": 200,
   "metadata": {},
   "outputs": [
    {
     "data": {
      "text/plain": [
       "1260"
      ]
     },
     "execution_count": 200,
     "metadata": {},
     "output_type": "execute_result"
    }
   ],
   "source": [
    "lcm(*_)"
   ]
  },
  {
   "cell_type": "code",
   "execution_count": 232,
   "metadata": {
    "collapsed": true
   },
   "outputs": [],
   "source": [
    "poss = set([lcm(*a) for a in partition(50)])"
   ]
  },
  {
   "cell_type": "code",
   "execution_count": 233,
   "metadata": {},
   "outputs": [
    {
     "data": {
      "text/plain": [
       "(22610, 20592)"
      ]
     },
     "execution_count": 233,
     "metadata": {},
     "output_type": "execute_result"
    }
   ],
   "source": [
    "max([(a,b) for a,b in itertools.product(poss,repeat=2)], key=lambda a: lcm(*a))"
   ]
  },
  {
   "cell_type": "code",
   "execution_count": 234,
   "metadata": {},
   "outputs": [
    {
     "data": {
      "text/plain": [
       "232792560"
      ]
     },
     "execution_count": 234,
     "metadata": {},
     "output_type": "execute_result"
    }
   ],
   "source": [
    "lcm(*_)"
   ]
  },
  {
   "cell_type": "code",
   "execution_count": 238,
   "metadata": {},
   "outputs": [
    {
     "data": {
      "text/plain": [
       "[(0, 0),\n",
       " (1, 1),\n",
       " (2, 2),\n",
       " (3, 3),\n",
       " (4, 4),\n",
       " (5, 6),\n",
       " (6, 6),\n",
       " (7, 12),\n",
       " (8, 15),\n",
       " (9, 20),\n",
       " (10, 30),\n",
       " (11, 30),\n",
       " (12, 60),\n",
       " (13, 60),\n",
       " (14, 84),\n",
       " (15, 105),\n",
       " (16, 140),\n",
       " (17, 210),\n",
       " (18, 210),\n",
       " (19, 420),\n",
       " (20, 420),\n",
       " (21, 420),\n",
       " (22, 420),\n",
       " (23, 840),\n",
       " (24, 840),\n",
       " (25, 1260),\n",
       " (26, 1260),\n",
       " (27, 1540),\n",
       " (28, 2310),\n",
       " (29, 2520),\n",
       " (30, 4620),\n",
       " (31, 4620),\n",
       " (32, 5460),\n",
       " (33, 5460),\n",
       " (34, 9240),\n",
       " (35, 9240),\n",
       " (36, 13860),\n",
       " (37, 13860),\n",
       " (38, 16380),\n",
       " (39, 16380),\n",
       " (40, 27720),\n",
       " (41, 30030),\n",
       " (42, 32760),\n",
       " (43, 60060),\n",
       " (44, 60060),\n",
       " (45, 60060),\n",
       " (46, 60060),\n",
       " (47, 120120),\n",
       " (48, 120120),\n",
       " (49, 180180)]"
      ]
     },
     "execution_count": 238,
     "metadata": {},
     "output_type": "execute_result"
    }
   ],
   "source": [
    "[(x,lcm(*longelement(x))) for x in range(50)]"
   ]
  },
  {
   "cell_type": "code",
   "execution_count": 244,
   "metadata": {},
   "outputs": [
    {
     "data": {
      "text/plain": [
       "[17, 13, 11, 7, 5, 4, 3]"
      ]
     },
     "execution_count": 244,
     "metadata": {},
     "output_type": "execute_result"
    }
   ],
   "source": [
    "longelement(60)"
   ]
  },
  {
   "cell_type": "code",
   "execution_count": 245,
   "metadata": {},
   "outputs": [
    {
     "data": {
      "text/plain": [
       "1021020"
      ]
     },
     "execution_count": 245,
     "metadata": {},
     "output_type": "execute_result"
    }
   ],
   "source": [
    "lcm(*_)"
   ]
  },
  {
   "cell_type": "code",
   "execution_count": null,
   "metadata": {
    "collapsed": true
   },
   "outputs": [],
   "source": []
  }
 ],
 "metadata": {
  "kernelspec": {
   "display_name": "Python 3",
   "language": "python",
   "name": "python3"
  },
  "language_info": {
   "codemirror_mode": {
    "name": "ipython",
    "version": 3
   },
   "file_extension": ".py",
   "mimetype": "text/x-python",
   "name": "python",
   "nbconvert_exporter": "python",
   "pygments_lexer": "ipython3",
   "version": "3.6.3"
  }
 },
 "nbformat": 4,
 "nbformat_minor": 2
}
